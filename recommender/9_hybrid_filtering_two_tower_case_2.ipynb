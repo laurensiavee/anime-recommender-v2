{
 "cells": [
  {
   "attachments": {},
   "cell_type": "markdown",
   "metadata": {},
   "source": [
    "# ANIME RECOMMENDER SYSTEM - HYBRID FILTERING - TWO TOWER - CASE 2"
   ]
  },
  {
   "cell_type": "code",
   "execution_count": 1,
   "metadata": {},
   "outputs": [],
   "source": [
    "# basic library\n",
    "import numpy as np \n",
    "import pandas as pd \n",
    "import warnings\n",
    "warnings.filterwarnings('ignore')\n",
    "import pickle\n",
    "from PIL import Image"
   ]
  },
  {
   "cell_type": "code",
   "execution_count": 2,
   "metadata": {},
   "outputs": [],
   "source": [
    "# load data\n",
    "file = open('dataset/processed_dataset/merged/merged_df_2.pkl', 'rb')\n",
    "merged_df = pickle.load(file)"
   ]
  },
  {
   "cell_type": "code",
   "execution_count": 3,
   "metadata": {},
   "outputs": [
    {
     "name": "stdout",
     "output_type": "stream",
     "text": [
      "<class 'pandas.core.frame.DataFrame'>\n",
      "RangeIndex: 1512740 entries, 0 to 1512739\n",
      "Columns: 187 entries, user_id to 99\n",
      "dtypes: float64(108), int64(79)\n",
      "memory usage: 2.1 GB\n"
     ]
    }
   ],
   "source": [
    "merged_df.info()"
   ]
  },
  {
   "attachments": {},
   "cell_type": "markdown",
   "metadata": {},
   "source": [
    "## train test split"
   ]
  },
  {
   "cell_type": "code",
   "execution_count": 4,
   "metadata": {},
   "outputs": [],
   "source": [
    "from sklearn.utils import shuffle\n",
    "merged_df = shuffle(merged_df)"
   ]
  },
  {
   "cell_type": "code",
   "execution_count": 5,
   "metadata": {},
   "outputs": [],
   "source": [
    "from sklearn.model_selection import train_test_split\n",
    "y = merged_df.user_score\n",
    "x = merged_df.drop('user_score', axis=1)\n",
    "x_train, x_test, y_train, y_test = train_test_split(x,y,test_size=0.3, random_state=0)"
   ]
  },
  {
   "cell_type": "code",
   "execution_count": 6,
   "metadata": {},
   "outputs": [
    {
     "name": "stdout",
     "output_type": "stream",
     "text": [
      "(1058918, 186)\n",
      "(1058918,)\n",
      "(453822, 186)\n",
      "(453822,)\n"
     ]
    }
   ],
   "source": [
    "print(x_train.shape)\n",
    "print(y_train.shape)\n",
    "print(x_test.shape)\n",
    "print(y_test.shape)"
   ]
  },
  {
   "cell_type": "code",
   "execution_count": 7,
   "metadata": {},
   "outputs": [],
   "source": [
    "user_id_train = x_train.user_id\n",
    "anime_id_train = x_train.anime_id\n",
    "anime_content_train = x_train.drop(['user_id', 'anime_id', 'num_watched_episodes','created_at','updated_at'], axis=1)\n",
    "rating_content_train = x_train[['num_watched_episodes','created_at','updated_at']]"
   ]
  },
  {
   "cell_type": "code",
   "execution_count": 8,
   "metadata": {},
   "outputs": [],
   "source": [
    "user_id_test = x_test.user_id\n",
    "anime_id_test = x_test.anime_id\n",
    "anime_content_test = x_test.drop(['user_id', 'anime_id', 'num_watched_episodes','created_at','updated_at'], axis=1)\n",
    "rating_content_test = x_test[['num_watched_episodes','created_at','updated_at']]"
   ]
  },
  {
   "cell_type": "code",
   "execution_count": 9,
   "metadata": {},
   "outputs": [
    {
     "name": "stdout",
     "output_type": "stream",
     "text": [
      "(1058918,)\n",
      "(1058918,)\n",
      "(1058918, 181)\n",
      "(1058918, 3)\n"
     ]
    }
   ],
   "source": [
    "print(user_id_train.shape)\n",
    "print(anime_id_train.shape)\n",
    "print(anime_content_train.shape)\n",
    "print(rating_content_train.shape)"
   ]
  },
  {
   "attachments": {},
   "cell_type": "markdown",
   "metadata": {},
   "source": [
    "## model building"
   ]
  },
  {
   "cell_type": "code",
   "execution_count": 10,
   "metadata": {},
   "outputs": [],
   "source": [
    "from tensorflow import keras\n",
    "import tensorflow as tf\n",
    "from tensorflow.keras.regularizers import l2\n",
    "from tensorflow.keras.layers import Dense, Flatten, Conv2D, MaxPooling2D, Dropout, Activation, BatchNormalization, ReLU\n",
    "from tensorflow.keras.models import Sequential"
   ]
  },
  {
   "cell_type": "code",
   "execution_count": 11,
   "metadata": {},
   "outputs": [],
   "source": [
    "# #func api\n",
    "# user_id = keras.Input(shape=(1,), name=\"in\")\n",
    "# x = tf.keras.layers.Embedding(1058918, 32, input_length=1, embeddings_initializer=\"RandomNormal\",embeddings_regularizer=l2(0))(user_id)\n",
    "# x = Flatten()(x)\n",
    "# x = Dense(8, activation=\"relu\")(x)\n",
    "# x = Dense(4, activation=\"relu\")(x)\n",
    "# encoder_output = Dense(4, activation=\"relu\")(x)\n",
    "\n",
    "# anime_id = keras.Input(shape=(1,), name=\"in2\")\n",
    "# x2 = tf.keras.layers.Embedding(1058918, 32, input_length=1, embeddings_initializer=\"RandomNormal\",embeddings_regularizer=l2(0))(anime_id)\n",
    "# x2 = Flatten()(x2)\n",
    "# anime_content = keras.Input(shape=(184,), name=\"in2_2\")\n",
    "# x2_1 = Dense(128, activation=\"relu\")(anime_content)\n",
    "# x2_2 =tf.keras.layers.Concatenate(axis=1)([x2, x2_1])\n",
    "\n",
    "# x2_2 = Dense(8, activation=\"relu\")(x2_2)\n",
    "# x2_2 = Dense(4, activation=\"relu\")(x2_2)\n",
    "# encoder_output_2 = Dense(4, activation=\"relu\")(x2_2)\n",
    "\n",
    "# dotted = tf.keras.layers.Dot(axes=-1)([encoder_output, encoder_output_2])\n",
    "\n",
    "# model = keras.Model(inputs=[user_id, anime_id, anime_content], outputs=dotted, name=\"model\")"
   ]
  },
  {
   "cell_type": "code",
   "execution_count": 12,
   "metadata": {},
   "outputs": [],
   "source": [
    "#func api\n",
    "user_id = keras.Input(shape=(1,), name=\"in\")\n",
    "x = tf.keras.layers.Embedding(1058918, 32, input_length=1, embeddings_initializer=\"RandomNormal\",embeddings_regularizer=l2(0))(user_id)\n",
    "x = Flatten()(x)\n",
    "user_content = keras.Input(shape=(3,), name=\"in1_2\")\n",
    "x1_1 = Dense(128, activation=\"relu\")(user_content)\n",
    "x1_2 =tf.keras.layers.Concatenate(axis=1)([x, x1_1])\n",
    "\n",
    "x1_2 = Dense(8, activation=\"relu\")(x1_2)\n",
    "x1_2 = Dense(4, activation=\"relu\")(x1_2)\n",
    "encoder_output = Dense(4, activation=\"relu\")(x1_2)\n",
    "\n",
    "anime_id = keras.Input(shape=(1,), name=\"in2\")\n",
    "x2 = tf.keras.layers.Embedding(1058918, 32, input_length=1, embeddings_initializer=\"RandomNormal\",embeddings_regularizer=l2(0))(anime_id)\n",
    "x2 = Flatten()(x2)\n",
    "anime_content = keras.Input(shape=(181,), name=\"in2_2\")\n",
    "x2_1 = Dense(128, activation=\"relu\")(anime_content)\n",
    "x2_2 =tf.keras.layers.Concatenate(axis=1)([x2, x2_1])\n",
    "\n",
    "x2_2 = Dense(8, activation=\"relu\")(x2_2)\n",
    "x2_2 = Dense(4, activation=\"relu\")(x2_2)\n",
    "encoder_output_2 = Dense(4, activation=\"relu\")(x2_2)\n",
    "\n",
    "dotted = tf.keras.layers.Dot(axes=-1)([encoder_output, encoder_output_2])\n",
    "\n",
    "model = keras.Model(inputs=[user_id, user_content, anime_id, anime_content], outputs=dotted, name=\"model\")"
   ]
  },
  {
   "cell_type": "code",
   "execution_count": 13,
   "metadata": {},
   "outputs": [
    {
     "name": "stdout",
     "output_type": "stream",
     "text": [
      "Model: \"model\"\n",
      "__________________________________________________________________________________________________\n",
      " Layer (type)                   Output Shape         Param #     Connected to                     \n",
      "==================================================================================================\n",
      " in (InputLayer)                [(None, 1)]          0           []                               \n",
      "                                                                                                  \n",
      " in2 (InputLayer)               [(None, 1)]          0           []                               \n",
      "                                                                                                  \n",
      " embedding (Embedding)          (None, 1, 32)        33885376    ['in[0][0]']                     \n",
      "                                                                                                  \n",
      " in1_2 (InputLayer)             [(None, 3)]          0           []                               \n",
      "                                                                                                  \n",
      " embedding_1 (Embedding)        (None, 1, 32)        33885376    ['in2[0][0]']                    \n",
      "                                                                                                  \n",
      " in2_2 (InputLayer)             [(None, 181)]        0           []                               \n",
      "                                                                                                  \n",
      " flatten (Flatten)              (None, 32)           0           ['embedding[0][0]']              \n",
      "                                                                                                  \n",
      " dense (Dense)                  (None, 128)          512         ['in1_2[0][0]']                  \n",
      "                                                                                                  \n",
      " flatten_1 (Flatten)            (None, 32)           0           ['embedding_1[0][0]']            \n",
      "                                                                                                  \n",
      " dense_4 (Dense)                (None, 128)          23296       ['in2_2[0][0]']                  \n",
      "                                                                                                  \n",
      " concatenate (Concatenate)      (None, 160)          0           ['flatten[0][0]',                \n",
      "                                                                  'dense[0][0]']                  \n",
      "                                                                                                  \n",
      " concatenate_1 (Concatenate)    (None, 160)          0           ['flatten_1[0][0]',              \n",
      "                                                                  'dense_4[0][0]']                \n",
      "                                                                                                  \n",
      " dense_1 (Dense)                (None, 8)            1288        ['concatenate[0][0]']            \n",
      "                                                                                                  \n",
      " dense_5 (Dense)                (None, 8)            1288        ['concatenate_1[0][0]']          \n",
      "                                                                                                  \n",
      " dense_2 (Dense)                (None, 4)            36          ['dense_1[0][0]']                \n",
      "                                                                                                  \n",
      " dense_6 (Dense)                (None, 4)            36          ['dense_5[0][0]']                \n",
      "                                                                                                  \n",
      " dense_3 (Dense)                (None, 4)            20          ['dense_2[0][0]']                \n",
      "                                                                                                  \n",
      " dense_7 (Dense)                (None, 4)            20          ['dense_6[0][0]']                \n",
      "                                                                                                  \n",
      " dot (Dot)                      (None, 1)            0           ['dense_3[0][0]',                \n",
      "                                                                  'dense_7[0][0]']                \n",
      "                                                                                                  \n",
      "==================================================================================================\n",
      "Total params: 67,797,248\n",
      "Trainable params: 67,797,248\n",
      "Non-trainable params: 0\n",
      "__________________________________________________________________________________________________\n"
     ]
    }
   ],
   "source": [
    "model.summary()"
   ]
  },
  {
   "cell_type": "code",
   "execution_count": 15,
   "metadata": {},
   "outputs": [
    {
     "name": "stdout",
     "output_type": "stream",
     "text": [
      "Epoch 1/10\n",
      "104/104 [==============================] - 125s 1s/step - loss: 0.3160 - mean_squared_error: 0.3160 - val_loss: 0.0687 - val_mean_squared_error: 0.0687\n",
      "Epoch 2/10\n",
      "104/104 [==============================] - 123s 1s/step - loss: 0.0329 - mean_squared_error: 0.0329 - val_loss: 0.0249 - val_mean_squared_error: 0.0249\n",
      "Epoch 3/10\n",
      "104/104 [==============================] - 120s 1s/step - loss: 0.0214 - mean_squared_error: 0.0214 - val_loss: 0.0207 - val_mean_squared_error: 0.0207\n",
      "Epoch 4/10\n",
      "104/104 [==============================] - 126s 1s/step - loss: 0.0195 - mean_squared_error: 0.0195 - val_loss: 0.0194 - val_mean_squared_error: 0.0194\n",
      "Epoch 5/10\n",
      "104/104 [==============================] - 124s 1s/step - loss: 0.0188 - mean_squared_error: 0.0188 - val_loss: 0.0190 - val_mean_squared_error: 0.0190\n",
      "Epoch 6/10\n",
      "104/104 [==============================] - 119s 1s/step - loss: 0.0186 - mean_squared_error: 0.0186 - val_loss: 0.0189 - val_mean_squared_error: 0.0189\n",
      "Epoch 7/10\n",
      "104/104 [==============================] - 119s 1s/step - loss: 0.0185 - mean_squared_error: 0.0185 - val_loss: 0.0188 - val_mean_squared_error: 0.0188\n",
      "Epoch 8/10\n",
      "104/104 [==============================] - 116s 1s/step - loss: 0.0183 - mean_squared_error: 0.0183 - val_loss: 0.0187 - val_mean_squared_error: 0.0187\n",
      "Epoch 9/10\n",
      "104/104 [==============================] - 123s 1s/step - loss: 0.0183 - mean_squared_error: 0.0183 - val_loss: 0.0191 - val_mean_squared_error: 0.0191\n",
      "Epoch 10/10\n",
      "104/104 [==============================] - 122s 1s/step - loss: 0.0182 - mean_squared_error: 0.0182 - val_loss: 0.0191 - val_mean_squared_error: 0.0191\n"
     ]
    }
   ],
   "source": [
    "optimizer = keras.optimizers.Adam(learning_rate=0.001, weight_decay=1e-4)\n",
    "\n",
    "model.compile(\n",
    "    loss='mean_squared_error', #mse\n",
    "    optimizer=optimizer,\n",
    "    metrics=[\"mean_squared_error\"], #mse \n",
    ")\n",
    "\n",
    "history = model.fit([user_id_train, rating_content_train, anime_id_train, anime_content_train], y_train, batch_size=8192, epochs=10, validation_split=0.2)"
   ]
  },
  {
   "cell_type": "code",
   "execution_count": 17,
   "metadata": {},
   "outputs": [
    {
     "name": "stdout",
     "output_type": "stream",
     "text": [
      "14182/14182 [==============================] - 20s 1ms/step\n"
     ]
    }
   ],
   "source": [
    "predictions = model.predict([user_id_test, rating_content_test, anime_id_test, anime_content_test])"
   ]
  },
  {
   "cell_type": "code",
   "execution_count": 18,
   "metadata": {},
   "outputs": [
    {
     "name": "stdout",
     "output_type": "stream",
     "text": [
      "<class 'numpy.ndarray'>\n"
     ]
    }
   ],
   "source": [
    "print(type(predictions))"
   ]
  },
  {
   "cell_type": "code",
   "execution_count": 19,
   "metadata": {},
   "outputs": [
    {
     "name": "stdout",
     "output_type": "stream",
     "text": [
      "MSE 0.01911087961460873\n"
     ]
    }
   ],
   "source": [
    "from sklearn.metrics import mean_squared_error\n",
    "print(\"MSE\",mean_squared_error(y_test,predictions))"
   ]
  },
  {
   "cell_type": "code",
   "execution_count": 20,
   "metadata": {},
   "outputs": [
    {
     "name": "stdout",
     "output_type": "stream",
     "text": [
      "MAE 0.10597087444564027\n"
     ]
    }
   ],
   "source": [
    "from sklearn.metrics import mean_absolute_error\n",
    "print(\"MAE\",mean_absolute_error(y_test,predictions))"
   ]
  },
  {
   "cell_type": "code",
   "execution_count": 21,
   "metadata": {},
   "outputs": [
    {
     "name": "stdout",
     "output_type": "stream",
     "text": [
      "r-squared 0.4131782261402145\n"
     ]
    }
   ],
   "source": [
    "from sklearn.metrics import r2_score\n",
    "print(\"r-squared\",r2_score(y_test,predictions))"
   ]
  },
  {
   "cell_type": "code",
   "execution_count": 22,
   "metadata": {},
   "outputs": [
    {
     "name": "stdout",
     "output_type": "stream",
     "text": [
      "RMSE 0.13824210507153284\n"
     ]
    }
   ],
   "source": [
    "from sklearn.metrics import mean_squared_error\n",
    "print(\"RMSE\",mean_squared_error(y_test,predictions, squared=False))"
   ]
  },
  {
   "cell_type": "code",
   "execution_count": 23,
   "metadata": {},
   "outputs": [],
   "source": [
    "test_arr = predictions.ravel()\n",
    "pred_arr = pd.DataFrame(test_arr, columns = ['pred'])"
   ]
  },
  {
   "cell_type": "code",
   "execution_count": 24,
   "metadata": {},
   "outputs": [],
   "source": [
    "y_test_df = y_test.to_frame()"
   ]
  },
  {
   "cell_type": "code",
   "execution_count": 25,
   "metadata": {},
   "outputs": [],
   "source": [
    "dat1 = pred_arr.reset_index(drop=True)\n",
    "dat2 = y_test_df.reset_index(drop=True)"
   ]
  },
  {
   "cell_type": "code",
   "execution_count": 26,
   "metadata": {},
   "outputs": [],
   "source": [
    "dat_1_2 = dat1.join(dat2)"
   ]
  },
  {
   "cell_type": "code",
   "execution_count": 27,
   "metadata": {},
   "outputs": [
    {
     "data": {
      "text/html": [
       "<div>\n",
       "<style scoped>\n",
       "    .dataframe tbody tr th:only-of-type {\n",
       "        vertical-align: middle;\n",
       "    }\n",
       "\n",
       "    .dataframe tbody tr th {\n",
       "        vertical-align: top;\n",
       "    }\n",
       "\n",
       "    .dataframe thead th {\n",
       "        text-align: right;\n",
       "    }\n",
       "</style>\n",
       "<table border=\"1\" class=\"dataframe\">\n",
       "  <thead>\n",
       "    <tr style=\"text-align: right;\">\n",
       "      <th></th>\n",
       "      <th>pred</th>\n",
       "      <th>user_score</th>\n",
       "    </tr>\n",
       "  </thead>\n",
       "  <tbody>\n",
       "    <tr>\n",
       "      <th>0</th>\n",
       "      <td>0.748287</td>\n",
       "      <td>0.666667</td>\n",
       "    </tr>\n",
       "    <tr>\n",
       "      <th>1</th>\n",
       "      <td>0.730688</td>\n",
       "      <td>0.666667</td>\n",
       "    </tr>\n",
       "    <tr>\n",
       "      <th>2</th>\n",
       "      <td>0.623947</td>\n",
       "      <td>0.666667</td>\n",
       "    </tr>\n",
       "    <tr>\n",
       "      <th>3</th>\n",
       "      <td>0.550517</td>\n",
       "      <td>0.666667</td>\n",
       "    </tr>\n",
       "    <tr>\n",
       "      <th>4</th>\n",
       "      <td>0.783924</td>\n",
       "      <td>0.666667</td>\n",
       "    </tr>\n",
       "    <tr>\n",
       "      <th>...</th>\n",
       "      <td>...</td>\n",
       "      <td>...</td>\n",
       "    </tr>\n",
       "    <tr>\n",
       "      <th>453817</th>\n",
       "      <td>0.797681</td>\n",
       "      <td>0.777778</td>\n",
       "    </tr>\n",
       "    <tr>\n",
       "      <th>453818</th>\n",
       "      <td>0.425632</td>\n",
       "      <td>0.444444</td>\n",
       "    </tr>\n",
       "    <tr>\n",
       "      <th>453819</th>\n",
       "      <td>0.615990</td>\n",
       "      <td>0.777778</td>\n",
       "    </tr>\n",
       "    <tr>\n",
       "      <th>453820</th>\n",
       "      <td>0.633675</td>\n",
       "      <td>0.555556</td>\n",
       "    </tr>\n",
       "    <tr>\n",
       "      <th>453821</th>\n",
       "      <td>0.719095</td>\n",
       "      <td>0.742121</td>\n",
       "    </tr>\n",
       "  </tbody>\n",
       "</table>\n",
       "<p>453822 rows × 2 columns</p>\n",
       "</div>"
      ],
      "text/plain": [
       "            pred  user_score\n",
       "0       0.748287    0.666667\n",
       "1       0.730688    0.666667\n",
       "2       0.623947    0.666667\n",
       "3       0.550517    0.666667\n",
       "4       0.783924    0.666667\n",
       "...          ...         ...\n",
       "453817  0.797681    0.777778\n",
       "453818  0.425632    0.444444\n",
       "453819  0.615990    0.777778\n",
       "453820  0.633675    0.555556\n",
       "453821  0.719095    0.742121\n",
       "\n",
       "[453822 rows x 2 columns]"
      ]
     },
     "execution_count": 27,
     "metadata": {},
     "output_type": "execute_result"
    }
   ],
   "source": [
    "dat_1_2"
   ]
  },
  {
   "cell_type": "code",
   "execution_count": 28,
   "metadata": {},
   "outputs": [],
   "source": [
    "model.save('model/model_impl.h5')"
   ]
  },
  {
   "cell_type": "code",
   "execution_count": 29,
   "metadata": {},
   "outputs": [
    {
     "data": {
      "text/plain": [
       "59041        693\n",
       "74013        884\n",
       "1219181    16186\n",
       "261111      3112\n",
       "858985     11168\n",
       "           ...  \n",
       "398303      4832\n",
       "593573      7164\n",
       "697639      8451\n",
       "378736      4592\n",
       "1511425        1\n",
       "Name: user_id, Length: 453822, dtype: int64"
      ]
     },
     "execution_count": 29,
     "metadata": {},
     "output_type": "execute_result"
    }
   ],
   "source": [
    "user_id_test"
   ]
  },
  {
   "cell_type": "code",
   "execution_count": 30,
   "metadata": {},
   "outputs": [
    {
     "data": {
      "text/plain": [
       "59041      34240.0\n",
       "74013        468.0\n",
       "1219181    11161.0\n",
       "261111      2795.0\n",
       "858985       523.0\n",
       "            ...   \n",
       "398303       269.0\n",
       "593573      8426.0\n",
       "697639     12967.0\n",
       "378736      3001.0\n",
       "1511425    51585.0\n",
       "Name: anime_id, Length: 453822, dtype: float64"
      ]
     },
     "execution_count": 30,
     "metadata": {},
     "output_type": "execute_result"
    }
   ],
   "source": [
    "anime_id_test"
   ]
  },
  {
   "cell_type": "code",
   "execution_count": 31,
   "metadata": {},
   "outputs": [
    {
     "data": {
      "text/html": [
       "<div>\n",
       "<style scoped>\n",
       "    .dataframe tbody tr th:only-of-type {\n",
       "        vertical-align: middle;\n",
       "    }\n",
       "\n",
       "    .dataframe tbody tr th {\n",
       "        vertical-align: top;\n",
       "    }\n",
       "\n",
       "    .dataframe thead th {\n",
       "        text-align: right;\n",
       "    }\n",
       "</style>\n",
       "<table border=\"1\" class=\"dataframe\">\n",
       "  <thead>\n",
       "    <tr style=\"text-align: right;\">\n",
       "      <th></th>\n",
       "      <th>score</th>\n",
       "      <th>members</th>\n",
       "      <th>type</th>\n",
       "      <th>studio</th>\n",
       "      <th>episode_count</th>\n",
       "      <th>Action</th>\n",
       "      <th>Adult Cast</th>\n",
       "      <th>Adventure</th>\n",
       "      <th>Anthropomorphic</th>\n",
       "      <th>Avant Garde</th>\n",
       "      <th>...</th>\n",
       "      <th>90</th>\n",
       "      <th>91</th>\n",
       "      <th>92</th>\n",
       "      <th>93</th>\n",
       "      <th>94</th>\n",
       "      <th>95</th>\n",
       "      <th>96</th>\n",
       "      <th>97</th>\n",
       "      <th>98</th>\n",
       "      <th>99</th>\n",
       "    </tr>\n",
       "  </thead>\n",
       "  <tbody>\n",
       "    <tr>\n",
       "      <th>59041</th>\n",
       "      <td>0.912184</td>\n",
       "      <td>0.087670</td>\n",
       "      <td>5</td>\n",
       "      <td>7</td>\n",
       "      <td>0.000327</td>\n",
       "      <td>0</td>\n",
       "      <td>0</td>\n",
       "      <td>0</td>\n",
       "      <td>0</td>\n",
       "      <td>0</td>\n",
       "      <td>...</td>\n",
       "      <td>0.000000</td>\n",
       "      <td>0.0</td>\n",
       "      <td>0.0</td>\n",
       "      <td>0.0</td>\n",
       "      <td>0.000000</td>\n",
       "      <td>0.0</td>\n",
       "      <td>0.212436</td>\n",
       "      <td>0.000000</td>\n",
       "      <td>0.000000</td>\n",
       "      <td>0.000000</td>\n",
       "    </tr>\n",
       "    <tr>\n",
       "      <th>74013</th>\n",
       "      <td>0.855104</td>\n",
       "      <td>0.042496</td>\n",
       "      <td>0</td>\n",
       "      <td>541</td>\n",
       "      <td>0.000327</td>\n",
       "      <td>0</td>\n",
       "      <td>1</td>\n",
       "      <td>0</td>\n",
       "      <td>0</td>\n",
       "      <td>0</td>\n",
       "      <td>...</td>\n",
       "      <td>0.000000</td>\n",
       "      <td>0.0</td>\n",
       "      <td>0.0</td>\n",
       "      <td>0.0</td>\n",
       "      <td>0.000000</td>\n",
       "      <td>0.0</td>\n",
       "      <td>0.391274</td>\n",
       "      <td>0.000000</td>\n",
       "      <td>0.000000</td>\n",
       "      <td>0.000000</td>\n",
       "    </tr>\n",
       "    <tr>\n",
       "      <th>1219181</th>\n",
       "      <td>0.749726</td>\n",
       "      <td>0.008099</td>\n",
       "      <td>3</td>\n",
       "      <td>185</td>\n",
       "      <td>0.000327</td>\n",
       "      <td>0</td>\n",
       "      <td>0</td>\n",
       "      <td>0</td>\n",
       "      <td>0</td>\n",
       "      <td>0</td>\n",
       "      <td>...</td>\n",
       "      <td>0.000000</td>\n",
       "      <td>0.0</td>\n",
       "      <td>0.0</td>\n",
       "      <td>0.0</td>\n",
       "      <td>0.000000</td>\n",
       "      <td>0.0</td>\n",
       "      <td>0.000000</td>\n",
       "      <td>0.494638</td>\n",
       "      <td>0.000000</td>\n",
       "      <td>0.000000</td>\n",
       "    </tr>\n",
       "    <tr>\n",
       "      <th>261111</th>\n",
       "      <td>0.725576</td>\n",
       "      <td>0.020316</td>\n",
       "      <td>4</td>\n",
       "      <td>262</td>\n",
       "      <td>0.008178</td>\n",
       "      <td>1</td>\n",
       "      <td>0</td>\n",
       "      <td>0</td>\n",
       "      <td>0</td>\n",
       "      <td>0</td>\n",
       "      <td>...</td>\n",
       "      <td>0.000000</td>\n",
       "      <td>0.0</td>\n",
       "      <td>0.0</td>\n",
       "      <td>0.0</td>\n",
       "      <td>0.000000</td>\n",
       "      <td>0.0</td>\n",
       "      <td>0.000000</td>\n",
       "      <td>0.000000</td>\n",
       "      <td>0.501136</td>\n",
       "      <td>0.000000</td>\n",
       "    </tr>\n",
       "    <tr>\n",
       "      <th>858985</th>\n",
       "      <td>0.906696</td>\n",
       "      <td>0.269612</td>\n",
       "      <td>0</td>\n",
       "      <td>675</td>\n",
       "      <td>0.000327</td>\n",
       "      <td>0</td>\n",
       "      <td>0</td>\n",
       "      <td>1</td>\n",
       "      <td>0</td>\n",
       "      <td>0</td>\n",
       "      <td>...</td>\n",
       "      <td>0.000000</td>\n",
       "      <td>0.0</td>\n",
       "      <td>0.0</td>\n",
       "      <td>0.0</td>\n",
       "      <td>0.000000</td>\n",
       "      <td>0.0</td>\n",
       "      <td>0.000000</td>\n",
       "      <td>0.000000</td>\n",
       "      <td>0.000000</td>\n",
       "      <td>0.000000</td>\n",
       "    </tr>\n",
       "    <tr>\n",
       "      <th>...</th>\n",
       "      <td>...</td>\n",
       "      <td>...</td>\n",
       "      <td>...</td>\n",
       "      <td>...</td>\n",
       "      <td>...</td>\n",
       "      <td>...</td>\n",
       "      <td>...</td>\n",
       "      <td>...</td>\n",
       "      <td>...</td>\n",
       "      <td>...</td>\n",
       "      <td>...</td>\n",
       "      <td>...</td>\n",
       "      <td>...</td>\n",
       "      <td>...</td>\n",
       "      <td>...</td>\n",
       "      <td>...</td>\n",
       "      <td>...</td>\n",
       "      <td>...</td>\n",
       "      <td>...</td>\n",
       "      <td>...</td>\n",
       "      <td>...</td>\n",
       "    </tr>\n",
       "    <tr>\n",
       "      <th>398303</th>\n",
       "      <td>0.866081</td>\n",
       "      <td>0.488930</td>\n",
       "      <td>4</td>\n",
       "      <td>516</td>\n",
       "      <td>0.119725</td>\n",
       "      <td>1</td>\n",
       "      <td>0</td>\n",
       "      <td>1</td>\n",
       "      <td>0</td>\n",
       "      <td>0</td>\n",
       "      <td>...</td>\n",
       "      <td>0.000000</td>\n",
       "      <td>0.0</td>\n",
       "      <td>0.0</td>\n",
       "      <td>0.0</td>\n",
       "      <td>0.000000</td>\n",
       "      <td>0.0</td>\n",
       "      <td>0.163598</td>\n",
       "      <td>0.000000</td>\n",
       "      <td>0.000000</td>\n",
       "      <td>0.188204</td>\n",
       "    </tr>\n",
       "    <tr>\n",
       "      <th>593573</th>\n",
       "      <td>0.845225</td>\n",
       "      <td>0.034395</td>\n",
       "      <td>4</td>\n",
       "      <td>16</td>\n",
       "      <td>0.003598</td>\n",
       "      <td>0</td>\n",
       "      <td>0</td>\n",
       "      <td>0</td>\n",
       "      <td>0</td>\n",
       "      <td>0</td>\n",
       "      <td>...</td>\n",
       "      <td>0.000000</td>\n",
       "      <td>0.0</td>\n",
       "      <td>0.0</td>\n",
       "      <td>0.0</td>\n",
       "      <td>0.000000</td>\n",
       "      <td>0.0</td>\n",
       "      <td>0.000000</td>\n",
       "      <td>0.000000</td>\n",
       "      <td>0.000000</td>\n",
       "      <td>0.000000</td>\n",
       "    </tr>\n",
       "    <tr>\n",
       "      <th>697639</th>\n",
       "      <td>0.687157</td>\n",
       "      <td>0.055242</td>\n",
       "      <td>4</td>\n",
       "      <td>315</td>\n",
       "      <td>0.003925</td>\n",
       "      <td>1</td>\n",
       "      <td>0</td>\n",
       "      <td>0</td>\n",
       "      <td>0</td>\n",
       "      <td>0</td>\n",
       "      <td>...</td>\n",
       "      <td>0.000000</td>\n",
       "      <td>0.0</td>\n",
       "      <td>0.0</td>\n",
       "      <td>0.0</td>\n",
       "      <td>0.215145</td>\n",
       "      <td>0.0</td>\n",
       "      <td>0.173495</td>\n",
       "      <td>0.000000</td>\n",
       "      <td>0.000000</td>\n",
       "      <td>0.000000</td>\n",
       "    </tr>\n",
       "    <tr>\n",
       "      <th>378736</th>\n",
       "      <td>0.829857</td>\n",
       "      <td>0.019558</td>\n",
       "      <td>4</td>\n",
       "      <td>777</td>\n",
       "      <td>0.003598</td>\n",
       "      <td>0</td>\n",
       "      <td>0</td>\n",
       "      <td>0</td>\n",
       "      <td>1</td>\n",
       "      <td>0</td>\n",
       "      <td>...</td>\n",
       "      <td>0.397809</td>\n",
       "      <td>0.0</td>\n",
       "      <td>0.0</td>\n",
       "      <td>0.0</td>\n",
       "      <td>0.000000</td>\n",
       "      <td>0.0</td>\n",
       "      <td>0.000000</td>\n",
       "      <td>0.000000</td>\n",
       "      <td>0.000000</td>\n",
       "      <td>0.000000</td>\n",
       "    </tr>\n",
       "    <tr>\n",
       "      <th>1511425</th>\n",
       "      <td>0.000000</td>\n",
       "      <td>0.000768</td>\n",
       "      <td>0</td>\n",
       "      <td>828</td>\n",
       "      <td>0.000327</td>\n",
       "      <td>1</td>\n",
       "      <td>0</td>\n",
       "      <td>0</td>\n",
       "      <td>0</td>\n",
       "      <td>0</td>\n",
       "      <td>...</td>\n",
       "      <td>0.000000</td>\n",
       "      <td>0.0</td>\n",
       "      <td>0.0</td>\n",
       "      <td>0.0</td>\n",
       "      <td>0.000000</td>\n",
       "      <td>0.0</td>\n",
       "      <td>0.000000</td>\n",
       "      <td>0.000000</td>\n",
       "      <td>0.000000</td>\n",
       "      <td>0.000000</td>\n",
       "    </tr>\n",
       "  </tbody>\n",
       "</table>\n",
       "<p>453822 rows × 181 columns</p>\n",
       "</div>"
      ],
      "text/plain": [
       "            score   members  type  studio  episode_count  Action  Adult Cast  \\\n",
       "59041    0.912184  0.087670     5       7       0.000327       0           0   \n",
       "74013    0.855104  0.042496     0     541       0.000327       0           1   \n",
       "1219181  0.749726  0.008099     3     185       0.000327       0           0   \n",
       "261111   0.725576  0.020316     4     262       0.008178       1           0   \n",
       "858985   0.906696  0.269612     0     675       0.000327       0           0   \n",
       "...           ...       ...   ...     ...            ...     ...         ...   \n",
       "398303   0.866081  0.488930     4     516       0.119725       1           0   \n",
       "593573   0.845225  0.034395     4      16       0.003598       0           0   \n",
       "697639   0.687157  0.055242     4     315       0.003925       1           0   \n",
       "378736   0.829857  0.019558     4     777       0.003598       0           0   \n",
       "1511425  0.000000  0.000768     0     828       0.000327       1           0   \n",
       "\n",
       "         Adventure  Anthropomorphic  Avant Garde  ...        90   91   92  \\\n",
       "59041            0                0            0  ...  0.000000  0.0  0.0   \n",
       "74013            0                0            0  ...  0.000000  0.0  0.0   \n",
       "1219181          0                0            0  ...  0.000000  0.0  0.0   \n",
       "261111           0                0            0  ...  0.000000  0.0  0.0   \n",
       "858985           1                0            0  ...  0.000000  0.0  0.0   \n",
       "...            ...              ...          ...  ...       ...  ...  ...   \n",
       "398303           1                0            0  ...  0.000000  0.0  0.0   \n",
       "593573           0                0            0  ...  0.000000  0.0  0.0   \n",
       "697639           0                0            0  ...  0.000000  0.0  0.0   \n",
       "378736           0                1            0  ...  0.397809  0.0  0.0   \n",
       "1511425          0                0            0  ...  0.000000  0.0  0.0   \n",
       "\n",
       "          93        94   95        96        97        98        99  \n",
       "59041    0.0  0.000000  0.0  0.212436  0.000000  0.000000  0.000000  \n",
       "74013    0.0  0.000000  0.0  0.391274  0.000000  0.000000  0.000000  \n",
       "1219181  0.0  0.000000  0.0  0.000000  0.494638  0.000000  0.000000  \n",
       "261111   0.0  0.000000  0.0  0.000000  0.000000  0.501136  0.000000  \n",
       "858985   0.0  0.000000  0.0  0.000000  0.000000  0.000000  0.000000  \n",
       "...      ...       ...  ...       ...       ...       ...       ...  \n",
       "398303   0.0  0.000000  0.0  0.163598  0.000000  0.000000  0.188204  \n",
       "593573   0.0  0.000000  0.0  0.000000  0.000000  0.000000  0.000000  \n",
       "697639   0.0  0.215145  0.0  0.173495  0.000000  0.000000  0.000000  \n",
       "378736   0.0  0.000000  0.0  0.000000  0.000000  0.000000  0.000000  \n",
       "1511425  0.0  0.000000  0.0  0.000000  0.000000  0.000000  0.000000  \n",
       "\n",
       "[453822 rows x 181 columns]"
      ]
     },
     "execution_count": 31,
     "metadata": {},
     "output_type": "execute_result"
    }
   ],
   "source": [
    "anime_content_test"
   ]
  },
  {
   "cell_type": "code",
   "execution_count": null,
   "metadata": {},
   "outputs": [],
   "source": []
  }
 ],
 "metadata": {
  "kernelspec": {
   "display_name": "Python 3",
   "language": "python",
   "name": "python3"
  },
  "language_info": {
   "codemirror_mode": {
    "name": "ipython",
    "version": 3
   },
   "file_extension": ".py",
   "mimetype": "text/x-python",
   "name": "python",
   "nbconvert_exporter": "python",
   "pygments_lexer": "ipython3",
   "version": "3.10.0"
  },
  "orig_nbformat": 4,
  "vscode": {
   "interpreter": {
    "hash": "a8fa90e972fba6d68c64ef3093ddfeebf6f186bad7c54fab3857fbd07ec9312a"
   }
  }
 },
 "nbformat": 4,
 "nbformat_minor": 2
}
