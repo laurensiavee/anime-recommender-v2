{
 "cells": [
  {
   "attachments": {},
   "cell_type": "markdown",
   "metadata": {},
   "source": [
    "# ANIME RECOMMENDER SYSTEM - PREPROCESSING - ANIME - STEP 3 - BATCH"
   ]
  },
  {
   "cell_type": "code",
   "execution_count": 1,
   "metadata": {},
   "outputs": [],
   "source": [
    "# basic library\n",
    "import numpy as np \n",
    "import pandas as pd \n",
    "import warnings\n",
    "warnings.filterwarnings('ignore')\n",
    "import pickle\n",
    "import torch\n",
    "from PIL import Image"
   ]
  },
  {
   "attachments": {},
   "cell_type": "markdown",
   "metadata": {},
   "source": [
    "## run word embedding for batches"
   ]
  },
  {
   "cell_type": "code",
   "execution_count": 2,
   "metadata": {},
   "outputs": [],
   "source": [
    "bat=23"
   ]
  },
  {
   "cell_type": "code",
   "execution_count": 3,
   "metadata": {},
   "outputs": [],
   "source": [
    "pkl_path = './dataset/processed_dataset/preprocessing/img_batch/img_batch_' + str(bat) + '.pkl'"
   ]
  },
  {
   "cell_type": "code",
   "execution_count": 4,
   "metadata": {},
   "outputs": [],
   "source": [
    "file = open(pkl_path,'rb')\n",
    "img_df = pickle.load(file)"
   ]
  },
  {
   "cell_type": "code",
   "execution_count": 5,
   "metadata": {},
   "outputs": [
    {
     "data": {
      "text/html": [
       "<div>\n",
       "<style scoped>\n",
       "    .dataframe tbody tr th:only-of-type {\n",
       "        vertical-align: middle;\n",
       "    }\n",
       "\n",
       "    .dataframe tbody tr th {\n",
       "        vertical-align: top;\n",
       "    }\n",
       "\n",
       "    .dataframe thead th {\n",
       "        text-align: right;\n",
       "    }\n",
       "</style>\n",
       "<table border=\"1\" class=\"dataframe\">\n",
       "  <thead>\n",
       "    <tr style=\"text-align: right;\">\n",
       "      <th></th>\n",
       "      <th>anime_id</th>\n",
       "      <th>images</th>\n",
       "    </tr>\n",
       "  </thead>\n",
       "  <tbody>\n",
       "    <tr>\n",
       "      <th>23000</th>\n",
       "      <td>8522</td>\n",
       "      <td>[[[104, 168, 239], [105, 169, 240], [106, 171,...</td>\n",
       "    </tr>\n",
       "    <tr>\n",
       "      <th>23001</th>\n",
       "      <td>8523</td>\n",
       "      <td>[[[195, 205, 215], [199, 209, 219], [200, 212,...</td>\n",
       "    </tr>\n",
       "    <tr>\n",
       "      <th>23002</th>\n",
       "      <td>8524</td>\n",
       "      <td>[[[162, 163, 89], [165, 166, 92], [169, 170, 9...</td>\n",
       "    </tr>\n",
       "    <tr>\n",
       "      <th>23003</th>\n",
       "      <td>8525</td>\n",
       "      <td>[[[58, 182, 246], [58, 182, 246], [56, 183, 24...</td>\n",
       "    </tr>\n",
       "    <tr>\n",
       "      <th>23004</th>\n",
       "      <td>8526</td>\n",
       "      <td>[[[216, 228, 173], [241, 251, 199], [228, 237,...</td>\n",
       "    </tr>\n",
       "  </tbody>\n",
       "</table>\n",
       "</div>"
      ],
      "text/plain": [
       "      anime_id                                             images\n",
       "23000     8522  [[[104, 168, 239], [105, 169, 240], [106, 171,...\n",
       "23001     8523  [[[195, 205, 215], [199, 209, 219], [200, 212,...\n",
       "23002     8524  [[[162, 163, 89], [165, 166, 92], [169, 170, 9...\n",
       "23003     8525  [[[58, 182, 246], [58, 182, 246], [56, 183, 24...\n",
       "23004     8526  [[[216, 228, 173], [241, 251, 199], [228, 237,..."
      ]
     },
     "execution_count": 5,
     "metadata": {},
     "output_type": "execute_result"
    }
   ],
   "source": [
    "img_df.head()"
   ]
  },
  {
   "cell_type": "code",
   "execution_count": 6,
   "metadata": {},
   "outputs": [],
   "source": [
    "images = []\n",
    "for i, row in img_df.iterrows():\n",
    "    pil_img = Image.fromarray(row['images'].astype('uint8'), 'RGB')\n",
    "    images.append(pil_img)"
   ]
  },
  {
   "cell_type": "code",
   "execution_count": 7,
   "metadata": {},
   "outputs": [],
   "source": [
    "from img2vec_pytorch import Img2Vec"
   ]
  },
  {
   "cell_type": "code",
   "execution_count": 8,
   "metadata": {},
   "outputs": [],
   "source": [
    "img2vec = Img2Vec(cuda=False)"
   ]
  },
  {
   "cell_type": "code",
   "execution_count": 9,
   "metadata": {},
   "outputs": [],
   "source": [
    "vectors = img2vec.get_vec(images)"
   ]
  },
  {
   "cell_type": "code",
   "execution_count": 10,
   "metadata": {},
   "outputs": [
    {
     "data": {
      "text/plain": [
       "759"
      ]
     },
     "execution_count": 10,
     "metadata": {},
     "output_type": "execute_result"
    }
   ],
   "source": [
    "len(vectors)"
   ]
  },
  {
   "cell_type": "code",
   "execution_count": 11,
   "metadata": {},
   "outputs": [
    {
     "data": {
      "text/plain": [
       "512"
      ]
     },
     "execution_count": 11,
     "metadata": {},
     "output_type": "execute_result"
    }
   ],
   "source": [
    "len(vectors[0])"
   ]
  },
  {
   "cell_type": "code",
   "execution_count": 12,
   "metadata": {},
   "outputs": [
    {
     "data": {
      "text/plain": [
       "anime_id    759\n",
       "images      759\n",
       "dtype: int64"
      ]
     },
     "execution_count": 12,
     "metadata": {},
     "output_type": "execute_result"
    }
   ],
   "source": [
    "img_df.count()"
   ]
  },
  {
   "cell_type": "code",
   "execution_count": 18,
   "metadata": {},
   "outputs": [
    {
     "data": {
      "text/plain": [
       "array([[1.0111996 , 1.3237398 , 0.7423637 , ..., 1.6064188 , 0.5401697 ,\n",
       "        3.1268775 ],\n",
       "       [0.40674147, 0.99925584, 0.05857263, ..., 1.1138428 , 0.09345108,\n",
       "        1.8277147 ],\n",
       "       [0.1483684 , 0.72410154, 0.8839795 , ..., 0.8318935 , 0.8042536 ,\n",
       "        2.2197328 ],\n",
       "       ...,\n",
       "       [1.8297454 , 2.8603342 , 0.07913236, ..., 0.6225533 , 0.45991442,\n",
       "        0.14676872],\n",
       "       [0.4012324 , 0.92990774, 0.6710301 , ..., 0.6475113 , 0.18443786,\n",
       "        1.1993957 ],\n",
       "       [0.9042203 , 1.1183697 , 0.78617245, ..., 1.507046  , 0.08752969,\n",
       "        1.4442223 ]], dtype=float32)"
      ]
     },
     "execution_count": 18,
     "metadata": {},
     "output_type": "execute_result"
    }
   ],
   "source": [
    "vectors"
   ]
  },
  {
   "cell_type": "code",
   "execution_count": 13,
   "metadata": {},
   "outputs": [
    {
     "data": {
      "text/plain": [
       "(759, 512)"
      ]
     },
     "execution_count": 13,
     "metadata": {},
     "output_type": "execute_result"
    }
   ],
   "source": [
    "vectors.shape"
   ]
  },
  {
   "cell_type": "code",
   "execution_count": 14,
   "metadata": {},
   "outputs": [],
   "source": [
    "vec_df = pd.DataFrame(vectors)"
   ]
  },
  {
   "cell_type": "code",
   "execution_count": 15,
   "metadata": {},
   "outputs": [
    {
     "name": "stdout",
     "output_type": "stream",
     "text": [
      "<class 'pandas.core.frame.DataFrame'>\n",
      "RangeIndex: 759 entries, 0 to 758\n",
      "Columns: 512 entries, 0 to 511\n",
      "dtypes: float32(512)\n",
      "memory usage: 1.5 MB\n"
     ]
    }
   ],
   "source": [
    "vec_df.info()"
   ]
  },
  {
   "cell_type": "code",
   "execution_count": 16,
   "metadata": {},
   "outputs": [
    {
     "data": {
      "text/html": [
       "<div>\n",
       "<style scoped>\n",
       "    .dataframe tbody tr th:only-of-type {\n",
       "        vertical-align: middle;\n",
       "    }\n",
       "\n",
       "    .dataframe tbody tr th {\n",
       "        vertical-align: top;\n",
       "    }\n",
       "\n",
       "    .dataframe thead th {\n",
       "        text-align: right;\n",
       "    }\n",
       "</style>\n",
       "<table border=\"1\" class=\"dataframe\">\n",
       "  <thead>\n",
       "    <tr style=\"text-align: right;\">\n",
       "      <th></th>\n",
       "      <th>0</th>\n",
       "      <th>1</th>\n",
       "      <th>2</th>\n",
       "      <th>3</th>\n",
       "      <th>4</th>\n",
       "      <th>5</th>\n",
       "      <th>6</th>\n",
       "      <th>7</th>\n",
       "      <th>8</th>\n",
       "      <th>9</th>\n",
       "      <th>...</th>\n",
       "      <th>502</th>\n",
       "      <th>503</th>\n",
       "      <th>504</th>\n",
       "      <th>505</th>\n",
       "      <th>506</th>\n",
       "      <th>507</th>\n",
       "      <th>508</th>\n",
       "      <th>509</th>\n",
       "      <th>510</th>\n",
       "      <th>511</th>\n",
       "    </tr>\n",
       "  </thead>\n",
       "  <tbody>\n",
       "    <tr>\n",
       "      <th>0</th>\n",
       "      <td>1.011200</td>\n",
       "      <td>1.323740</td>\n",
       "      <td>0.742364</td>\n",
       "      <td>1.899829</td>\n",
       "      <td>0.255413</td>\n",
       "      <td>0.563488</td>\n",
       "      <td>1.462772</td>\n",
       "      <td>0.753957</td>\n",
       "      <td>0.888072</td>\n",
       "      <td>1.229606</td>\n",
       "      <td>...</td>\n",
       "      <td>0.645551</td>\n",
       "      <td>2.161290</td>\n",
       "      <td>2.031881</td>\n",
       "      <td>0.965539</td>\n",
       "      <td>0.624634</td>\n",
       "      <td>0.926012</td>\n",
       "      <td>1.013261</td>\n",
       "      <td>1.606419</td>\n",
       "      <td>0.540170</td>\n",
       "      <td>3.126878</td>\n",
       "    </tr>\n",
       "    <tr>\n",
       "      <th>1</th>\n",
       "      <td>0.406741</td>\n",
       "      <td>0.999256</td>\n",
       "      <td>0.058573</td>\n",
       "      <td>1.642970</td>\n",
       "      <td>0.300703</td>\n",
       "      <td>0.090918</td>\n",
       "      <td>0.455741</td>\n",
       "      <td>0.506594</td>\n",
       "      <td>1.493714</td>\n",
       "      <td>0.392605</td>\n",
       "      <td>...</td>\n",
       "      <td>0.114625</td>\n",
       "      <td>0.578662</td>\n",
       "      <td>0.902072</td>\n",
       "      <td>0.962442</td>\n",
       "      <td>0.542585</td>\n",
       "      <td>1.352986</td>\n",
       "      <td>0.268537</td>\n",
       "      <td>1.113843</td>\n",
       "      <td>0.093451</td>\n",
       "      <td>1.827715</td>\n",
       "    </tr>\n",
       "    <tr>\n",
       "      <th>2</th>\n",
       "      <td>0.148368</td>\n",
       "      <td>0.724102</td>\n",
       "      <td>0.883979</td>\n",
       "      <td>0.507792</td>\n",
       "      <td>0.991265</td>\n",
       "      <td>0.242151</td>\n",
       "      <td>0.609297</td>\n",
       "      <td>2.537727</td>\n",
       "      <td>0.337964</td>\n",
       "      <td>2.496098</td>\n",
       "      <td>...</td>\n",
       "      <td>0.192822</td>\n",
       "      <td>0.649467</td>\n",
       "      <td>1.910913</td>\n",
       "      <td>0.613297</td>\n",
       "      <td>1.023811</td>\n",
       "      <td>0.511683</td>\n",
       "      <td>0.786128</td>\n",
       "      <td>0.831894</td>\n",
       "      <td>0.804254</td>\n",
       "      <td>2.219733</td>\n",
       "    </tr>\n",
       "    <tr>\n",
       "      <th>3</th>\n",
       "      <td>0.914744</td>\n",
       "      <td>0.735583</td>\n",
       "      <td>0.108446</td>\n",
       "      <td>2.314878</td>\n",
       "      <td>0.478519</td>\n",
       "      <td>1.116488</td>\n",
       "      <td>0.722510</td>\n",
       "      <td>1.453756</td>\n",
       "      <td>1.220760</td>\n",
       "      <td>0.962147</td>\n",
       "      <td>...</td>\n",
       "      <td>0.354405</td>\n",
       "      <td>0.639007</td>\n",
       "      <td>1.496272</td>\n",
       "      <td>0.480572</td>\n",
       "      <td>0.584658</td>\n",
       "      <td>0.158812</td>\n",
       "      <td>0.229165</td>\n",
       "      <td>0.120549</td>\n",
       "      <td>0.000000</td>\n",
       "      <td>1.305514</td>\n",
       "    </tr>\n",
       "    <tr>\n",
       "      <th>4</th>\n",
       "      <td>0.753436</td>\n",
       "      <td>0.769140</td>\n",
       "      <td>0.706375</td>\n",
       "      <td>2.252620</td>\n",
       "      <td>1.049409</td>\n",
       "      <td>0.076633</td>\n",
       "      <td>0.015710</td>\n",
       "      <td>1.209293</td>\n",
       "      <td>1.576650</td>\n",
       "      <td>0.702440</td>\n",
       "      <td>...</td>\n",
       "      <td>0.254280</td>\n",
       "      <td>0.386421</td>\n",
       "      <td>0.722576</td>\n",
       "      <td>1.163219</td>\n",
       "      <td>1.440301</td>\n",
       "      <td>0.028882</td>\n",
       "      <td>1.000108</td>\n",
       "      <td>0.378892</td>\n",
       "      <td>0.013333</td>\n",
       "      <td>1.302391</td>\n",
       "    </tr>\n",
       "  </tbody>\n",
       "</table>\n",
       "<p>5 rows × 512 columns</p>\n",
       "</div>"
      ],
      "text/plain": [
       "        0         1         2         3         4         5         6    \\\n",
       "0  1.011200  1.323740  0.742364  1.899829  0.255413  0.563488  1.462772   \n",
       "1  0.406741  0.999256  0.058573  1.642970  0.300703  0.090918  0.455741   \n",
       "2  0.148368  0.724102  0.883979  0.507792  0.991265  0.242151  0.609297   \n",
       "3  0.914744  0.735583  0.108446  2.314878  0.478519  1.116488  0.722510   \n",
       "4  0.753436  0.769140  0.706375  2.252620  1.049409  0.076633  0.015710   \n",
       "\n",
       "        7         8         9    ...       502       503       504       505  \\\n",
       "0  0.753957  0.888072  1.229606  ...  0.645551  2.161290  2.031881  0.965539   \n",
       "1  0.506594  1.493714  0.392605  ...  0.114625  0.578662  0.902072  0.962442   \n",
       "2  2.537727  0.337964  2.496098  ...  0.192822  0.649467  1.910913  0.613297   \n",
       "3  1.453756  1.220760  0.962147  ...  0.354405  0.639007  1.496272  0.480572   \n",
       "4  1.209293  1.576650  0.702440  ...  0.254280  0.386421  0.722576  1.163219   \n",
       "\n",
       "        506       507       508       509       510       511  \n",
       "0  0.624634  0.926012  1.013261  1.606419  0.540170  3.126878  \n",
       "1  0.542585  1.352986  0.268537  1.113843  0.093451  1.827715  \n",
       "2  1.023811  0.511683  0.786128  0.831894  0.804254  2.219733  \n",
       "3  0.584658  0.158812  0.229165  0.120549  0.000000  1.305514  \n",
       "4  1.440301  0.028882  1.000108  0.378892  0.013333  1.302391  \n",
       "\n",
       "[5 rows x 512 columns]"
      ]
     },
     "execution_count": 16,
     "metadata": {},
     "output_type": "execute_result"
    }
   ],
   "source": [
    "vec_df.head()"
   ]
  },
  {
   "cell_type": "code",
   "execution_count": null,
   "metadata": {},
   "outputs": [],
   "source": [
    "with open('./dataset/processed_dataset/preprocessing/img_batch/img_batch_p_' + str(bat) + '.pkl','wb') as f:\n",
    "    pickle.dump(vectors, f)"
   ]
  }
 ],
 "metadata": {
  "kernelspec": {
   "display_name": "Python 3",
   "language": "python",
   "name": "python3"
  },
  "language_info": {
   "codemirror_mode": {
    "name": "ipython",
    "version": 3
   },
   "file_extension": ".py",
   "mimetype": "text/x-python",
   "name": "python",
   "nbconvert_exporter": "python",
   "pygments_lexer": "ipython3",
   "version": "3.10.0"
  },
  "orig_nbformat": 4,
  "vscode": {
   "interpreter": {
    "hash": "a8fa90e972fba6d68c64ef3093ddfeebf6f186bad7c54fab3857fbd07ec9312a"
   }
  }
 },
 "nbformat": 4,
 "nbformat_minor": 2
}
