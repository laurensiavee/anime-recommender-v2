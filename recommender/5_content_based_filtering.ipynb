{
 "cells": [
  {
   "cell_type": "markdown",
   "metadata": {},
   "source": [
    "# ANIME RECOMMENDER SYSTEM - CONTENT-BASED FILTERING"
   ]
  },
  {
   "cell_type": "code",
   "execution_count": 3,
   "metadata": {},
   "outputs": [],
   "source": [
    "# basic library\n",
    "import numpy as np \n",
    "import pandas as pd \n",
    "import seaborn as sns\n",
    "import matplotlib.pyplot as plt\n",
    "import warnings\n",
    "warnings.filterwarnings('ignore')"
   ]
  },
  {
   "cell_type": "code",
   "execution_count": 4,
   "metadata": {},
   "outputs": [],
   "source": [
    "# load data\n",
    "anime_df = pd.read_csv('dataset/processed_dataset/anime.csv')"
   ]
  },
  {
   "cell_type": "code",
   "execution_count": 3,
   "metadata": {},
   "outputs": [],
   "source": [
    "from sklearn.feature_extraction.text import TfidfVectorizer\n",
    "from sklearn.metrics.pairwise import sigmoid_kernel"
   ]
  },
  {
   "cell_type": "code",
   "execution_count": 4,
   "metadata": {},
   "outputs": [],
   "source": [
    "def get_tf_matrix(col):\n",
    "    tf = TfidfVectorizer(stop_words='english')\n",
    "    anime_df[col] = anime_df[col].fillna('')\n",
    "\n",
    "    tf_matrix = tf.fit_transform(anime_df[col])\n",
    "    tf_matrix.shape\n",
    "    return tf_matrix"
   ]
  },
  {
   "cell_type": "code",
   "execution_count": 5,
   "metadata": {},
   "outputs": [],
   "source": [
    "def get_cosine(tf_matrix):\n",
    "    # compute cosine similarity matrix\n",
    "    cosine_sim = sigmoid_kernel(tf_matrix, tf_matrix)\n",
    "    return cosine_sim"
   ]
  },
  {
   "cell_type": "code",
   "execution_count": 1,
   "metadata": {},
   "outputs": [
    {
     "ename": "NameError",
     "evalue": "name 'pd' is not defined",
     "output_type": "error",
     "traceback": [
      "\u001b[1;31m---------------------------------------------------------------------------\u001b[0m",
      "\u001b[1;31mNameError\u001b[0m                                 Traceback (most recent call last)",
      "Cell \u001b[1;32mIn [1], line 2\u001b[0m\n\u001b[0;32m      1\u001b[0m \u001b[39m# get indices for every anime\u001b[39;00m\n\u001b[1;32m----> 2\u001b[0m indices \u001b[39m=\u001b[39m pd\u001b[39m.\u001b[39mSeries(anime_df\u001b[39m.\u001b[39mindex, index\u001b[39m=\u001b[39manime_df[\u001b[39m'\u001b[39m\u001b[39mtitle\u001b[39m\u001b[39m'\u001b[39m])\u001b[39m.\u001b[39mdrop_duplicates()\n",
      "\u001b[1;31mNameError\u001b[0m: name 'pd' is not defined"
     ]
    }
   ],
   "source": [
    "# get indices for every anime\n",
    "indices = pd.Series(anime_df.index, index=anime_df['title']).drop_duplicates()"
   ]
  },
  {
   "cell_type": "code",
   "execution_count": 7,
   "metadata": {},
   "outputs": [],
   "source": [
    "# list to string\n",
    "col_list = ['genre']\n",
    "for i in col_list:\n",
    "    anime_df[i] = anime_df[i].astype(str)"
   ]
  },
  {
   "cell_type": "code",
   "execution_count": 8,
   "metadata": {},
   "outputs": [],
   "source": [
    "# synopsis\n",
    "tf_matrix_sypnopsis = get_tf_matrix('synopsis')\n",
    "cosine_sim_sypnopsis = get_cosine(tf_matrix_sypnopsis)"
   ]
  },
  {
   "cell_type": "code",
   "execution_count": 9,
   "metadata": {},
   "outputs": [],
   "source": [
    "# genre\n",
    "tf_matrix_genres = get_tf_matrix('genre')\n",
    "cosine_sim_genres = get_cosine(tf_matrix_genres)"
   ]
  },
  {
   "cell_type": "code",
   "execution_count": 10,
   "metadata": {},
   "outputs": [],
   "source": [
    "#studio\n",
    "tf_matrix_studios = get_tf_matrix('studio')\n",
    "cosine_sim_studios = get_cosine(tf_matrix_studios)"
   ]
  },
  {
   "cell_type": "code",
   "execution_count": 11,
   "metadata": {},
   "outputs": [],
   "source": [
    "header = ['anime_id', 'title', 'score', 'rating_count', 'ranked', 'popularity', 'members', 'type', 'studio', 'synopsis', 'episode_count', 'genre', 'url', 'img']"
   ]
  },
  {
   "cell_type": "code",
   "execution_count": 13,
   "metadata": {},
   "outputs": [],
   "source": [
    "# create soup combining feature:\n",
    "feature = ['genre', 'type', 'studio', 'synopsis']\n",
    "for i in feature:\n",
    "    anime_df = anime_df.astype(str)\n",
    "anime_df['soup'] = anime_df[feature].apply(lambda row: '  '.join(row.values.astype(str)), axis=1)"
   ]
  },
  {
   "cell_type": "code",
   "execution_count": 14,
   "metadata": {},
   "outputs": [],
   "source": [
    "tf_matrix_soup = get_tf_matrix('soup')\n",
    "cosine_sim_soup = get_cosine(tf_matrix_soup)"
   ]
  },
  {
   "cell_type": "code",
   "execution_count": 17,
   "metadata": {},
   "outputs": [],
   "source": [
    "# get recommendation function for content based filtering\n",
    "def get_rec_content(title, cosine_sim):\n",
    "    # get index of title\n",
    "    idx = indices[title]\n",
    "    \n",
    "    # pairwise similarity score \n",
    "    sim = list(enumerate(cosine_sim[idx]))\n",
    "    sim = sorted(sim, key=lambda x: x[1], reverse=True)\n",
    "    sim = sim[1:11]\n",
    "\n",
    "    # indices sim \n",
    "    anime_indices = [i[0] for i in sim]\n",
    "    return anime_df['title'].iloc[anime_indices]"
   ]
  },
  {
   "cell_type": "code",
   "execution_count": 18,
   "metadata": {},
   "outputs": [
    {
     "data": {
      "text/plain": [
       "10106      Haikyuu!! Movie 1: Owari to Hajimari\n",
       "15105                      Haikyuu!! To the Top\n",
       "5639                           Attack No.1 1970\n",
       "12771        Haikyuu!! Movie 3: Sainou to Sense\n",
       "10453      Haikyuu!! Movie 2: Shousha to Haisha\n",
       "9864                    Haikyuu!! Second Season\n",
       "2794                              Attacker You!\n",
       "1407                                Attack No.1\n",
       "3582                           Ashita e Attack!\n",
       "4884     Shoujo Fight: Norainu-tachi no Odekake\n",
       "Name: title, dtype: object"
      ]
     },
     "execution_count": 18,
     "metadata": {},
     "output_type": "execute_result"
    }
   ],
   "source": [
    "get_rec_content('Haikyuu!!', cosine_sim_sypnopsis)"
   ]
  },
  {
   "cell_type": "code",
   "execution_count": 19,
   "metadata": {},
   "outputs": [
    {
     "data": {
      "text/plain": [
       "160                                              Whistle!\n",
       "1603                                      Slam Dunk Movie\n",
       "1697    Slam Dunk: Zenkoku Seiha Da! - Sakuragi Hanamichi\n",
       "2289    Slam Dunk: Shouhoku Saidai no Kiki! Moero Saku...\n",
       "2290    Slam Dunk: Hoero Basketman-damashii! Hanamichi...\n",
       "6603                                     Kuroko no Basket\n",
       "7531                          Kuroko no Basket 2nd Season\n",
       "7538                            Kuroko no Basket: Tip Off\n",
       "7602                  Kuroko no Basket: Oshaberi Shiyokka\n",
       "7920                                       Diamond no Ace\n",
       "Name: title, dtype: object"
      ]
     },
     "execution_count": 19,
     "metadata": {},
     "output_type": "execute_result"
    }
   ],
   "source": [
    "get_rec_content('Haikyuu!!', cosine_sim_genres)"
   ]
  },
  {
   "cell_type": "code",
   "execution_count": 21,
   "metadata": {},
   "outputs": [
    {
     "data": {
      "text/plain": [
       "93               Sakigake!! Cromartie Koukou\n",
       "128                                   Blood+\n",
       "178                            Video Girl Ai\n",
       "381                  Blood: The Last Vampire\n",
       "437        One Piece: Taose! Kaizoku Ganzack\n",
       "438    Koukaku Kidoutai: Stand Alone Complex\n",
       "439                                Innocence\n",
       "492                              Otogizoushi\n",
       "493               Boku no Chikyuu wo Mamotte\n",
       "535                                  Jin-Rou\n",
       "Name: title, dtype: object"
      ]
     },
     "execution_count": 21,
     "metadata": {},
     "output_type": "execute_result"
    }
   ],
   "source": [
    "get_rec_content('Haikyuu!!', cosine_sim_studios)"
   ]
  },
  {
   "cell_type": "code",
   "execution_count": 22,
   "metadata": {},
   "outputs": [
    {
     "data": {
      "text/plain": [
       "10106      Haikyuu!! Movie 1: Owari to Hajimari\n",
       "15105                      Haikyuu!! To the Top\n",
       "12771        Haikyuu!! Movie 3: Sainou to Sense\n",
       "5639                           Attack No.1 1970\n",
       "10453      Haikyuu!! Movie 2: Shousha to Haisha\n",
       "9864                    Haikyuu!! Second Season\n",
       "1407                                Attack No.1\n",
       "2794                              Attacker You!\n",
       "3582                           Ashita e Attack!\n",
       "4884     Shoujo Fight: Norainu-tachi no Odekake\n",
       "Name: title, dtype: object"
      ]
     },
     "execution_count": 22,
     "metadata": {},
     "output_type": "execute_result"
    }
   ],
   "source": [
    "get_rec_content('Haikyuu!!', cosine_sim_soup)"
   ]
  },
  {
   "cell_type": "code",
   "execution_count": 7,
   "metadata": {},
   "outputs": [],
   "source": [
    "import pickle"
   ]
  },
  {
   "cell_type": "code",
   "execution_count": 25,
   "metadata": {},
   "outputs": [],
   "source": [
    "pickle.dump(cosine_sim_soup, open('pickle/cosine_sim_soup.pickle', 'wb'))"
   ]
  },
  {
   "cell_type": "code",
   "execution_count": 5,
   "metadata": {},
   "outputs": [],
   "source": [
    "# get indices for every anime\n",
    "indices_id = pd.Series(anime_df.index, index=anime_df['anime_id']).drop_duplicates()"
   ]
  },
  {
   "cell_type": "code",
   "execution_count": 8,
   "metadata": {},
   "outputs": [],
   "source": [
    "pickle.dump(indices_id, open('pickle/indices_id.pickle', 'wb'))\n"
   ]
  }
 ],
 "metadata": {
  "kernelspec": {
   "display_name": "Python 3.11.0 64-bit",
   "language": "python",
   "name": "python3"
  },
  "language_info": {
   "codemirror_mode": {
    "name": "ipython",
    "version": 3
   },
   "file_extension": ".py",
   "mimetype": "text/x-python",
   "name": "python",
   "nbconvert_exporter": "python",
   "pygments_lexer": "ipython3",
   "version": "3.11.0"
  },
  "orig_nbformat": 4,
  "vscode": {
   "interpreter": {
    "hash": "419ab0bd2a48cf5dfaa94a51098d8d8ab5d3ebf8dd1cdce976fe49ff4f409df8"
   }
  }
 },
 "nbformat": 4,
 "nbformat_minor": 2
}
