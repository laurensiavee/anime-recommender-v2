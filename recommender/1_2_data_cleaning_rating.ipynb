{
 "cells": [
  {
   "attachments": {},
   "cell_type": "markdown",
   "metadata": {},
   "source": [
    "# ANIME RECOMMENDER SYSTEM - DATA CLEANING - RATING"
   ]
  },
  {
   "cell_type": "code",
   "execution_count": 1,
   "metadata": {},
   "outputs": [],
   "source": [
    "# basic library\n",
    "import numpy as np \n",
    "import pandas as pd \n",
    "import seaborn as sns\n",
    "import matplotlib.pyplot as plt\n",
    "import warnings\n",
    "import pickle\n",
    "warnings.filterwarnings('ignore')"
   ]
  },
  {
   "cell_type": "code",
   "execution_count": 2,
   "metadata": {},
   "outputs": [
    {
     "data": {
      "text/html": [
       "<div>\n",
       "<style scoped>\n",
       "    .dataframe tbody tr th:only-of-type {\n",
       "        vertical-align: middle;\n",
       "    }\n",
       "\n",
       "    .dataframe tbody tr th {\n",
       "        vertical-align: top;\n",
       "    }\n",
       "\n",
       "    .dataframe thead th {\n",
       "        text-align: right;\n",
       "    }\n",
       "</style>\n",
       "<table border=\"1\" class=\"dataframe\">\n",
       "  <thead>\n",
       "    <tr style=\"text-align: right;\">\n",
       "      <th></th>\n",
       "      <th>user_id</th>\n",
       "      <th>status</th>\n",
       "      <th>score</th>\n",
       "      <th>is_rewatching</th>\n",
       "      <th>num_watched_episodes</th>\n",
       "      <th>created_at</th>\n",
       "      <th>updated_at</th>\n",
       "      <th>anime_title</th>\n",
       "      <th>anime_id</th>\n",
       "    </tr>\n",
       "  </thead>\n",
       "  <tbody>\n",
       "    <tr>\n",
       "      <th>0</th>\n",
       "      <td>2</td>\n",
       "      <td>2</td>\n",
       "      <td>4</td>\n",
       "      <td>0</td>\n",
       "      <td>1</td>\n",
       "      <td>1648845810</td>\n",
       "      <td>1648845810</td>\n",
       "      <td>!NVADE SHOW!</td>\n",
       "      <td>51478</td>\n",
       "    </tr>\n",
       "    <tr>\n",
       "      <th>1</th>\n",
       "      <td>2</td>\n",
       "      <td>2</td>\n",
       "      <td>4</td>\n",
       "      <td>Unknown</td>\n",
       "      <td>1</td>\n",
       "      <td>1415823823</td>\n",
       "      <td>1415823823</td>\n",
       "      <td>0</td>\n",
       "      <td>20707</td>\n",
       "    </tr>\n",
       "    <tr>\n",
       "      <th>2</th>\n",
       "      <td>2</td>\n",
       "      <td>2</td>\n",
       "      <td>5</td>\n",
       "      <td>Unknown</td>\n",
       "      <td>1</td>\n",
       "      <td>1331102346</td>\n",
       "      <td>1373812370</td>\n",
       "      <td>Bungaku Shoujo Movie</td>\n",
       "      <td>6408</td>\n",
       "    </tr>\n",
       "    <tr>\n",
       "      <th>3</th>\n",
       "      <td>2</td>\n",
       "      <td>2</td>\n",
       "      <td>5</td>\n",
       "      <td>0</td>\n",
       "      <td>1</td>\n",
       "      <td>1561119148</td>\n",
       "      <td>1561119148</td>\n",
       "      <td>Calpis Hakkou Monogatari</td>\n",
       "      <td>38045</td>\n",
       "    </tr>\n",
       "    <tr>\n",
       "      <th>4</th>\n",
       "      <td>2</td>\n",
       "      <td>2</td>\n",
       "      <td>6</td>\n",
       "      <td>0</td>\n",
       "      <td>1</td>\n",
       "      <td>1633699468</td>\n",
       "      <td>1633699468</td>\n",
       "      <td>Hataraku no 100-nenshi</td>\n",
       "      <td>49668</td>\n",
       "    </tr>\n",
       "  </tbody>\n",
       "</table>\n",
       "</div>"
      ],
      "text/plain": [
       "   user_id  status  score is_rewatching  num_watched_episodes  created_at  \\\n",
       "0        2       2      4             0                     1  1648845810   \n",
       "1        2       2      4       Unknown                     1  1415823823   \n",
       "2        2       2      5       Unknown                     1  1331102346   \n",
       "3        2       2      5             0                     1  1561119148   \n",
       "4        2       2      6             0                     1  1633699468   \n",
       "\n",
       "   updated_at               anime_title  anime_id  \n",
       "0  1648845810              !NVADE SHOW!     51478  \n",
       "1  1415823823                         0     20707  \n",
       "2  1373812370      Bungaku Shoujo Movie      6408  \n",
       "3  1561119148  Calpis Hakkou Monogatari     38045  \n",
       "4  1633699468    Hataraku no 100-nenshi     49668  "
      ]
     },
     "execution_count": 2,
     "metadata": {},
     "output_type": "execute_result"
    }
   ],
   "source": [
    "# load data\n",
    "rating_df = pd.read_csv('dataset/rating.csv')\n",
    "rating_df.head()"
   ]
  },
  {
   "cell_type": "code",
   "execution_count": 3,
   "metadata": {},
   "outputs": [
    {
     "data": {
      "text/plain": [
       "user_id                 1722920\n",
       "status                  1722920\n",
       "score                   1722920\n",
       "is_rewatching           1722920\n",
       "num_watched_episodes    1722920\n",
       "created_at              1722920\n",
       "updated_at              1722920\n",
       "anime_title             1722920\n",
       "anime_id                1722920\n",
       "dtype: int64"
      ]
     },
     "execution_count": 3,
     "metadata": {},
     "output_type": "execute_result"
    }
   ],
   "source": [
    "rating_df.count()"
   ]
  },
  {
   "cell_type": "code",
   "execution_count": 4,
   "metadata": {},
   "outputs": [
    {
     "name": "stdout",
     "output_type": "stream",
     "text": [
      "<class 'pandas.core.frame.DataFrame'>\n",
      "RangeIndex: 1722920 entries, 0 to 1722919\n",
      "Data columns (total 9 columns):\n",
      " #   Column                Dtype \n",
      "---  ------                ----- \n",
      " 0   user_id               int64 \n",
      " 1   status                int64 \n",
      " 2   score                 int64 \n",
      " 3   is_rewatching         object\n",
      " 4   num_watched_episodes  int64 \n",
      " 5   created_at            int64 \n",
      " 6   updated_at            int64 \n",
      " 7   anime_title           object\n",
      " 8   anime_id              int64 \n",
      "dtypes: int64(7), object(2)\n",
      "memory usage: 118.3+ MB\n"
     ]
    }
   ],
   "source": [
    "rating_df.info()"
   ]
  },
  {
   "attachments": {},
   "cell_type": "markdown",
   "metadata": {},
   "source": [
    "## CLEANING DATA TYPES AND INVALID VALUES"
   ]
  },
  {
   "cell_type": "code",
   "execution_count": 5,
   "metadata": {},
   "outputs": [
    {
     "name": "stdout",
     "output_type": "stream",
     "text": [
      "['0', 'Unknown']\n"
     ]
    }
   ],
   "source": [
    "print(sorted(pd.unique(rating_df['is_rewatching'])))"
   ]
  },
  {
   "cell_type": "code",
   "execution_count": 6,
   "metadata": {},
   "outputs": [
    {
     "name": "stdout",
     "output_type": "stream",
     "text": [
      "[2]\n"
     ]
    }
   ],
   "source": [
    "print(sorted(pd.unique(rating_df['status'])))"
   ]
  },
  {
   "cell_type": "code",
   "execution_count": 7,
   "metadata": {},
   "outputs": [],
   "source": [
    "# drop because all unknown and 0\n",
    "rating_df = rating_df.drop(['is_rewatching'], axis=1)\n",
    "# drop because all 2\n",
    "rating_df = rating_df.drop(['status'], axis=1)"
   ]
  },
  {
   "cell_type": "code",
   "execution_count": 8,
   "metadata": {},
   "outputs": [],
   "source": [
    "rating_df = rating_df.drop(['anime_title'], axis=1)"
   ]
  },
  {
   "cell_type": "code",
   "execution_count": 9,
   "metadata": {},
   "outputs": [],
   "source": [
    "rating_df.to_csv('dataset/cleaned_dataset/rating.csv', index=False)"
   ]
  },
  {
   "cell_type": "code",
   "execution_count": 10,
   "metadata": {},
   "outputs": [],
   "source": [
    "with open('./dataset/cleaned_dataset/rating.pkl','wb') as f:\n",
    "    pickle.dump(rating_df, f)"
   ]
  }
 ],
 "metadata": {
  "kernelspec": {
   "display_name": "Python 3",
   "language": "python",
   "name": "python3"
  },
  "language_info": {
   "codemirror_mode": {
    "name": "ipython",
    "version": 3
   },
   "file_extension": ".py",
   "mimetype": "text/x-python",
   "name": "python",
   "nbconvert_exporter": "python",
   "pygments_lexer": "ipython3",
   "version": "3.11.0"
  },
  "orig_nbformat": 4,
  "vscode": {
   "interpreter": {
    "hash": "419ab0bd2a48cf5dfaa94a51098d8d8ab5d3ebf8dd1cdce976fe49ff4f409df8"
   }
  }
 },
 "nbformat": 4,
 "nbformat_minor": 2
}
