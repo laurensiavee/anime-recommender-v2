{
 "cells": [
  {
   "attachments": {},
   "cell_type": "markdown",
   "metadata": {},
   "source": [
    "# ANIME RECOMMENDER SYSTEM - HYBRID FILTERING - TWO TOWER - CASE 1"
   ]
  },
  {
   "cell_type": "code",
   "execution_count": null,
   "metadata": {},
   "outputs": [],
   "source": [
    "# basic library\n",
    "import numpy as np \n",
    "import pandas as pd  \n",
    "import warnings\n",
    "warnings.filterwarnings('ignore')\n",
    "import pickle\n",
    "from PIL import Image"
   ]
  },
  {
   "cell_type": "code",
   "execution_count": 2,
   "metadata": {},
   "outputs": [],
   "source": [
    "# load data\n",
    "file = open('dataset/processed_dataset/merged/merged_df_1.pkl', 'rb')\n",
    "merged_df = pickle.load(file)"
   ]
  },
  {
   "cell_type": "code",
   "execution_count": 3,
   "metadata": {},
   "outputs": [
    {
     "name": "stdout",
     "output_type": "stream",
     "text": [
      "<class 'pandas.core.frame.DataFrame'>\n",
      "RangeIndex: 1512740 entries, 0 to 1512739\n",
      "Data columns (total 87 columns):\n",
      " #   Column                Non-Null Count    Dtype  \n",
      "---  ------                --------------    -----  \n",
      " 0   user_id               1512740 non-null  int64  \n",
      " 1   user_score            1512740 non-null  float64\n",
      " 2   num_watched_episodes  1512740 non-null  float64\n",
      " 3   created_at            1512740 non-null  float64\n",
      " 4   updated_at            1512740 non-null  float64\n",
      " 5   anime_id              1512740 non-null  float64\n",
      " 6   score                 1512740 non-null  float64\n",
      " 7   members               1512740 non-null  float64\n",
      " 8   type                  1512740 non-null  int64  \n",
      " 9   studio                1512740 non-null  int64  \n",
      " 10  episode_count         1512740 non-null  float64\n",
      " 11  Action                1512740 non-null  int64  \n",
      " 12  Adult Cast            1512740 non-null  int64  \n",
      " 13  Adventure             1512740 non-null  int64  \n",
      " 14  Anthropomorphic       1512740 non-null  int64  \n",
      " 15  Avant Garde           1512740 non-null  int64  \n",
      " 16  Award Winning         1512740 non-null  int64  \n",
      " 17  Boys Love             1512740 non-null  int64  \n",
      " 18  CGDCT                 1512740 non-null  int64  \n",
      " 19  Childcare             1512740 non-null  int64  \n",
      " 20  Combat Sports         1512740 non-null  int64  \n",
      " 21  Comedy                1512740 non-null  int64  \n",
      " 22  Crossdressing         1512740 non-null  int64  \n",
      " 23  Delinquents           1512740 non-null  int64  \n",
      " 24  Detective             1512740 non-null  int64  \n",
      " 25  Drama                 1512740 non-null  int64  \n",
      " 26  Ecchi                 1512740 non-null  int64  \n",
      " 27  Educational           1512740 non-null  int64  \n",
      " 28  Erotica               1512740 non-null  int64  \n",
      " 29  Fantasy               1512740 non-null  int64  \n",
      " 30  Gag Humor             1512740 non-null  int64  \n",
      " 31  Girls Love            1512740 non-null  int64  \n",
      " 32  Gore                  1512740 non-null  int64  \n",
      " 33  Gourmet               1512740 non-null  int64  \n",
      " 34  Harem                 1512740 non-null  int64  \n",
      " 35  Hentai                1512740 non-null  int64  \n",
      " 36  High Stakes Game      1512740 non-null  int64  \n",
      " 37  Historical            1512740 non-null  int64  \n",
      " 38  Horror                1512740 non-null  int64  \n",
      " 39  Idols (Female)        1512740 non-null  int64  \n",
      " 40  Idols (Male)          1512740 non-null  int64  \n",
      " 41  Isekai                1512740 non-null  int64  \n",
      " 42  Iyashikei             1512740 non-null  int64  \n",
      " 43  Josei                 1512740 non-null  int64  \n",
      " 44  Kids                  1512740 non-null  int64  \n",
      " 45  Love Polygon          1512740 non-null  int64  \n",
      " 46  Magical Sex Shift     1512740 non-null  int64  \n",
      " 47  Mahou Shoujo          1512740 non-null  int64  \n",
      " 48  Martial Arts          1512740 non-null  int64  \n",
      " 49  Mecha                 1512740 non-null  int64  \n",
      " 50  Medical               1512740 non-null  int64  \n",
      " 51  Military              1512740 non-null  int64  \n",
      " 52  Music                 1512740 non-null  int64  \n",
      " 53  Mystery               1512740 non-null  int64  \n",
      " 54  Mythology             1512740 non-null  int64  \n",
      " 55  Organized Crime       1512740 non-null  int64  \n",
      " 56  Otaku Culture         1512740 non-null  int64  \n",
      " 57  Parody                1512740 non-null  int64  \n",
      " 58  Performing Arts       1512740 non-null  int64  \n",
      " 59  Pets                  1512740 non-null  int64  \n",
      " 60  Psychological         1512740 non-null  int64  \n",
      " 61  Racing                1512740 non-null  int64  \n",
      " 62  Reincarnation         1512740 non-null  int64  \n",
      " 63  Reverse Harem         1512740 non-null  int64  \n",
      " 64  Romance               1512740 non-null  int64  \n",
      " 65  Romantic Subtext      1512740 non-null  int64  \n",
      " 66  Samurai               1512740 non-null  int64  \n",
      " 67  School                1512740 non-null  int64  \n",
      " 68  Sci-Fi                1512740 non-null  int64  \n",
      " 69  Seinen                1512740 non-null  int64  \n",
      " 70  Shoujo                1512740 non-null  int64  \n",
      " 71  Shounen               1512740 non-null  int64  \n",
      " 72  Showbiz               1512740 non-null  int64  \n",
      " 73  Slice of Life         1512740 non-null  int64  \n",
      " 74  Space                 1512740 non-null  int64  \n",
      " 75  Sports                1512740 non-null  int64  \n",
      " 76  Strategy Game         1512740 non-null  int64  \n",
      " 77  Super Power           1512740 non-null  int64  \n",
      " 78  Supernatural          1512740 non-null  int64  \n",
      " 79  Survival              1512740 non-null  int64  \n",
      " 80  Suspense              1512740 non-null  int64  \n",
      " 81  Team Sports           1512740 non-null  int64  \n",
      " 82  Time Travel           1512740 non-null  int64  \n",
      " 83  Vampire               1512740 non-null  int64  \n",
      " 84  Video Game            1512740 non-null  int64  \n",
      " 85  Visual Arts           1512740 non-null  int64  \n",
      " 86  Workplace             1512740 non-null  int64  \n",
      "dtypes: float64(8), int64(79)\n",
      "memory usage: 1004.1 MB\n"
     ]
    }
   ],
   "source": [
    "merged_df.info()"
   ]
  },
  {
   "attachments": {},
   "cell_type": "markdown",
   "metadata": {},
   "source": [
    "## train test split"
   ]
  },
  {
   "cell_type": "code",
   "execution_count": 4,
   "metadata": {},
   "outputs": [],
   "source": [
    "from sklearn.utils import shuffle\n",
    "merged_df = shuffle(merged_df)"
   ]
  },
  {
   "cell_type": "code",
   "execution_count": 5,
   "metadata": {},
   "outputs": [],
   "source": [
    "from sklearn.model_selection import train_test_split\n",
    "y = merged_df.user_score\n",
    "x = merged_df.drop('user_score', axis=1)\n",
    "x_train, x_test, y_train, y_test = train_test_split(x,y,test_size=0.3, random_state=0)"
   ]
  },
  {
   "cell_type": "code",
   "execution_count": 6,
   "metadata": {},
   "outputs": [
    {
     "name": "stdout",
     "output_type": "stream",
     "text": [
      "(1058918, 86)\n",
      "(1058918,)\n",
      "(453822, 86)\n",
      "(453822,)\n"
     ]
    }
   ],
   "source": [
    "print(x_train.shape)\n",
    "print(y_train.shape)\n",
    "print(x_test.shape)\n",
    "print(y_test.shape)"
   ]
  },
  {
   "cell_type": "code",
   "execution_count": 7,
   "metadata": {},
   "outputs": [],
   "source": [
    "user_id_train = x_train.user_id\n",
    "anime_id_train = x_train.anime_id\n",
    "anime_content_train = x_train.drop(['user_id', 'anime_id', 'num_watched_episodes','created_at','updated_at'], axis=1)\n",
    "rating_content_train = x_train[['num_watched_episodes','created_at','updated_at']]"
   ]
  },
  {
   "cell_type": "code",
   "execution_count": 16,
   "metadata": {},
   "outputs": [],
   "source": [
    "user_id_test = x_test.user_id\n",
    "anime_id_test = x_test.anime_id\n",
    "anime_content_test = x_test.drop(['user_id', 'anime_id', 'num_watched_episodes','created_at','updated_at'], axis=1)\n",
    "rating_content_test = x_test[['num_watched_episodes','created_at','updated_at']]"
   ]
  },
  {
   "cell_type": "code",
   "execution_count": 9,
   "metadata": {},
   "outputs": [
    {
     "name": "stdout",
     "output_type": "stream",
     "text": [
      "(1058918,)\n",
      "(1058918,)\n",
      "(1058918, 81)\n",
      "(1058918, 3)\n"
     ]
    }
   ],
   "source": [
    "print(user_id_train.shape)\n",
    "print(anime_id_train.shape)\n",
    "print(anime_content_train.shape)\n",
    "print(rating_content_train.shape)"
   ]
  },
  {
   "attachments": {},
   "cell_type": "markdown",
   "metadata": {},
   "source": [
    "## model building"
   ]
  },
  {
   "cell_type": "code",
   "execution_count": 10,
   "metadata": {},
   "outputs": [],
   "source": [
    "from tensorflow import keras\n",
    "import tensorflow as tf\n",
    "from tensorflow.keras.regularizers import l2\n",
    "from tensorflow.keras.layers import Dense, Flatten, Conv2D, MaxPooling2D, Dropout, Activation, BatchNormalization, ReLU\n",
    "from tensorflow.keras.models import Sequential"
   ]
  },
  {
   "cell_type": "code",
   "execution_count": 11,
   "metadata": {},
   "outputs": [],
   "source": [
    "# #func api\n",
    "# user_id = keras.Input(shape=(1,), name=\"in\")\n",
    "# x = tf.keras.layers.Embedding(1058918, 32, input_length=1, embeddings_initializer=\"RandomNormal\",embeddings_regularizer=l2(0))(user_id)\n",
    "# x = Flatten()(x)\n",
    "# x = Dense(8, activation=\"relu\")(x)\n",
    "# x = Dense(4, activation=\"relu\")(x)\n",
    "# encoder_output = Dense(4, activation=\"relu\")(x)\n",
    "\n",
    "# anime_id = keras.Input(shape=(1,), name=\"in2\")\n",
    "# x2 = tf.keras.layers.Embedding(1058918, 32, input_length=1, embeddings_initializer=\"RandomNormal\",embeddings_regularizer=l2(0))(anime_id)\n",
    "# x2 = Flatten()(x2)\n",
    "# anime_content = keras.Input(shape=(84,), name=\"in2_2\")\n",
    "# x2_1 = Dense(128, activation=\"relu\")(anime_content)\n",
    "# x2_2 =tf.keras.layers.Concatenate(axis=1)([x2, x2_1])\n",
    "\n",
    "# x2_2 = Dense(8, activation=\"relu\")(x2_2)\n",
    "# x2_2 = Dense(4, activation=\"relu\")(x2_2)\n",
    "# encoder_output_2 = Dense(4, activation=\"relu\")(x2_2)\n",
    "\n",
    "# dotted = tf.keras.layers.Dot(axes=-1)([encoder_output, encoder_output_2])\n",
    "\n",
    "# model = keras.Model(inputs=[user_id, anime_id, anime_content], outputs=dotted, name=\"model\")"
   ]
  },
  {
   "cell_type": "code",
   "execution_count": 12,
   "metadata": {},
   "outputs": [],
   "source": [
    "#func api\n",
    "user_id = keras.Input(shape=(1,), name=\"in\")\n",
    "x = tf.keras.layers.Embedding(1058918, 32, input_length=1, embeddings_initializer=\"RandomNormal\",embeddings_regularizer=l2(0))(user_id)\n",
    "x = Flatten()(x)\n",
    "user_content = keras.Input(shape=(3,), name=\"in1_2\")\n",
    "x1_1 = Dense(128, activation=\"relu\")(user_content)\n",
    "x1_2 =tf.keras.layers.Concatenate(axis=1)([x, x1_1])\n",
    "\n",
    "x1_2 = Dense(8, activation=\"relu\")(x1_2)\n",
    "x1_2 = Dense(4, activation=\"relu\")(x1_2)\n",
    "encoder_output = Dense(4, activation=\"relu\")(x1_2)\n",
    "\n",
    "anime_id = keras.Input(shape=(1,), name=\"in2\")\n",
    "x2 = tf.keras.layers.Embedding(1058918, 32, input_length=1, embeddings_initializer=\"RandomNormal\",embeddings_regularizer=l2(0))(anime_id)\n",
    "x2 = Flatten()(x2)\n",
    "anime_content = keras.Input(shape=(81,), name=\"in2_2\")\n",
    "x2_1 = Dense(128, activation=\"relu\")(anime_content)\n",
    "x2_2 =tf.keras.layers.Concatenate(axis=1)([x2, x2_1])\n",
    "\n",
    "x2_2 = Dense(8, activation=\"relu\")(x2_2)\n",
    "x2_2 = Dense(4, activation=\"relu\")(x2_2)\n",
    "encoder_output_2 = Dense(4, activation=\"relu\")(x2_2)\n",
    "\n",
    "dotted = tf.keras.layers.Dot(axes=-1)([encoder_output, encoder_output_2])\n",
    "\n",
    "model = keras.Model(inputs=[user_id, user_content, anime_id, anime_content], outputs=dotted, name=\"model\")"
   ]
  },
  {
   "cell_type": "code",
   "execution_count": 13,
   "metadata": {},
   "outputs": [
    {
     "name": "stdout",
     "output_type": "stream",
     "text": [
      "Model: \"model\"\n",
      "__________________________________________________________________________________________________\n",
      " Layer (type)                   Output Shape         Param #     Connected to                     \n",
      "==================================================================================================\n",
      " in (InputLayer)                [(None, 1)]          0           []                               \n",
      "                                                                                                  \n",
      " in2 (InputLayer)               [(None, 1)]          0           []                               \n",
      "                                                                                                  \n",
      " embedding (Embedding)          (None, 1, 32)        33885376    ['in[0][0]']                     \n",
      "                                                                                                  \n",
      " in1_2 (InputLayer)             [(None, 3)]          0           []                               \n",
      "                                                                                                  \n",
      " embedding_1 (Embedding)        (None, 1, 32)        33885376    ['in2[0][0]']                    \n",
      "                                                                                                  \n",
      " in2_2 (InputLayer)             [(None, 81)]         0           []                               \n",
      "                                                                                                  \n",
      " flatten (Flatten)              (None, 32)           0           ['embedding[0][0]']              \n",
      "                                                                                                  \n",
      " dense (Dense)                  (None, 128)          512         ['in1_2[0][0]']                  \n",
      "                                                                                                  \n",
      " flatten_1 (Flatten)            (None, 32)           0           ['embedding_1[0][0]']            \n",
      "                                                                                                  \n",
      " dense_4 (Dense)                (None, 128)          10496       ['in2_2[0][0]']                  \n",
      "                                                                                                  \n",
      " concatenate (Concatenate)      (None, 160)          0           ['flatten[0][0]',                \n",
      "                                                                  'dense[0][0]']                  \n",
      "                                                                                                  \n",
      " concatenate_1 (Concatenate)    (None, 160)          0           ['flatten_1[0][0]',              \n",
      "                                                                  'dense_4[0][0]']                \n",
      "                                                                                                  \n",
      " dense_1 (Dense)                (None, 8)            1288        ['concatenate[0][0]']            \n",
      "                                                                                                  \n",
      " dense_5 (Dense)                (None, 8)            1288        ['concatenate_1[0][0]']          \n",
      "                                                                                                  \n",
      " dense_2 (Dense)                (None, 4)            36          ['dense_1[0][0]']                \n",
      "                                                                                                  \n",
      " dense_6 (Dense)                (None, 4)            36          ['dense_5[0][0]']                \n",
      "                                                                                                  \n",
      " dense_3 (Dense)                (None, 4)            20          ['dense_2[0][0]']                \n",
      "                                                                                                  \n",
      " dense_7 (Dense)                (None, 4)            20          ['dense_6[0][0]']                \n",
      "                                                                                                  \n",
      " dot (Dot)                      (None, 1)            0           ['dense_3[0][0]',                \n",
      "                                                                  'dense_7[0][0]']                \n",
      "                                                                                                  \n",
      "==================================================================================================\n",
      "Total params: 67,784,448\n",
      "Trainable params: 67,784,448\n",
      "Non-trainable params: 0\n",
      "__________________________________________________________________________________________________\n"
     ]
    }
   ],
   "source": [
    "model.summary()"
   ]
  },
  {
   "cell_type": "code",
   "execution_count": 14,
   "metadata": {},
   "outputs": [
    {
     "name": "stdout",
     "output_type": "stream",
     "text": [
      "Epoch 1/10\n",
      "104/104 [==============================] - 131s 1s/step - loss: 0.0993 - mean_squared_error: 0.0993 - val_loss: 0.0339 - val_mean_squared_error: 0.0339\n",
      "Epoch 2/10\n",
      "104/104 [==============================] - 119s 1s/step - loss: 0.0279 - mean_squared_error: 0.0279 - val_loss: 0.0538 - val_mean_squared_error: 0.0538\n",
      "Epoch 3/10\n",
      "104/104 [==============================] - 121s 1s/step - loss: 0.0233 - mean_squared_error: 0.0233 - val_loss: 0.0198 - val_mean_squared_error: 0.0198\n",
      "Epoch 4/10\n",
      "104/104 [==============================] - 115s 1s/step - loss: 0.0190 - mean_squared_error: 0.0190 - val_loss: 0.0191 - val_mean_squared_error: 0.0191\n",
      "Epoch 5/10\n",
      "104/104 [==============================] - 116s 1s/step - loss: 0.0187 - mean_squared_error: 0.0187 - val_loss: 0.0190 - val_mean_squared_error: 0.0190\n",
      "Epoch 6/10\n",
      "104/104 [==============================] - 115s 1s/step - loss: 0.0185 - mean_squared_error: 0.0185 - val_loss: 0.0189 - val_mean_squared_error: 0.0189\n",
      "Epoch 7/10\n",
      "104/104 [==============================] - 118s 1s/step - loss: 0.0185 - mean_squared_error: 0.0185 - val_loss: 0.0193 - val_mean_squared_error: 0.0193\n",
      "Epoch 8/10\n",
      "104/104 [==============================] - 121s 1s/step - loss: 0.0184 - mean_squared_error: 0.0184 - val_loss: 0.0193 - val_mean_squared_error: 0.0193\n",
      "Epoch 9/10\n",
      "104/104 [==============================] - 119s 1s/step - loss: 0.0182 - mean_squared_error: 0.0182 - val_loss: 0.0205 - val_mean_squared_error: 0.0205\n",
      "Epoch 10/10\n",
      "104/104 [==============================] - 119s 1s/step - loss: 0.0184 - mean_squared_error: 0.0184 - val_loss: 0.0206 - val_mean_squared_error: 0.0206\n"
     ]
    }
   ],
   "source": [
    "optimizer = keras.optimizers.Adam(learning_rate=0.001, weight_decay=1e-4)\n",
    "\n",
    "model.compile(\n",
    "    loss='mean_squared_error', #mse\n",
    "    optimizer=optimizer,\n",
    "    metrics=[\"mean_squared_error\"], #mse \n",
    ")\n",
    "\n",
    "history = model.fit([user_id_train, rating_content_train, anime_id_train, anime_content_train], y_train, batch_size=8192, epochs=10, validation_split=0.2)"
   ]
  },
  {
   "cell_type": "code",
   "execution_count": 17,
   "metadata": {},
   "outputs": [
    {
     "name": "stdout",
     "output_type": "stream",
     "text": [
      "14182/14182 [==============================] - 14s 950us/step\n"
     ]
    }
   ],
   "source": [
    "predictions = model.predict([user_id_test, rating_content_test, anime_id_test, anime_content_test])"
   ]
  },
  {
   "cell_type": "code",
   "execution_count": 18,
   "metadata": {},
   "outputs": [
    {
     "name": "stdout",
     "output_type": "stream",
     "text": [
      "<class 'numpy.ndarray'>\n"
     ]
    }
   ],
   "source": [
    "print(type(predictions))"
   ]
  },
  {
   "cell_type": "code",
   "execution_count": 19,
   "metadata": {},
   "outputs": [
    {
     "name": "stdout",
     "output_type": "stream",
     "text": [
      "MSE 0.020436142107635658\n"
     ]
    }
   ],
   "source": [
    "from sklearn.metrics import mean_squared_error\n",
    "print(\"MSE\",mean_squared_error(y_test,predictions))"
   ]
  },
  {
   "cell_type": "code",
   "execution_count": 20,
   "metadata": {},
   "outputs": [
    {
     "name": "stdout",
     "output_type": "stream",
     "text": [
      "MAE 0.10757600790541634\n"
     ]
    }
   ],
   "source": [
    "from sklearn.metrics import mean_absolute_error\n",
    "print(\"MAE\",mean_absolute_error(y_test,predictions))"
   ]
  },
  {
   "cell_type": "code",
   "execution_count": 21,
   "metadata": {},
   "outputs": [
    {
     "name": "stdout",
     "output_type": "stream",
     "text": [
      "r-squared 0.3727713853525718\n"
     ]
    }
   ],
   "source": [
    "from sklearn.metrics import r2_score\n",
    "print(\"r-squared\",r2_score(y_test,predictions))"
   ]
  },
  {
   "cell_type": "code",
   "execution_count": 22,
   "metadata": {},
   "outputs": [
    {
     "name": "stdout",
     "output_type": "stream",
     "text": [
      "RMSE 0.1429550352650639\n"
     ]
    }
   ],
   "source": [
    "from sklearn.metrics import mean_squared_error\n",
    "print(\"RMSE\",mean_squared_error(y_test,predictions, squared=False))"
   ]
  },
  {
   "cell_type": "code",
   "execution_count": 23,
   "metadata": {},
   "outputs": [],
   "source": [
    "test_arr = predictions.ravel()\n",
    "pred_arr = pd.DataFrame(test_arr, columns = ['pred'])"
   ]
  },
  {
   "cell_type": "code",
   "execution_count": 24,
   "metadata": {},
   "outputs": [],
   "source": [
    "y_test_df = y_test.to_frame()"
   ]
  },
  {
   "cell_type": "code",
   "execution_count": 25,
   "metadata": {},
   "outputs": [],
   "source": [
    "dat1 = pred_arr.reset_index(drop=True)\n",
    "dat2 = y_test_df.reset_index(drop=True)"
   ]
  },
  {
   "cell_type": "code",
   "execution_count": 26,
   "metadata": {},
   "outputs": [],
   "source": [
    "dat_1_2 = dat1.join(dat2)"
   ]
  },
  {
   "cell_type": "code",
   "execution_count": 27,
   "metadata": {},
   "outputs": [
    {
     "data": {
      "text/html": [
       "<div>\n",
       "<style scoped>\n",
       "    .dataframe tbody tr th:only-of-type {\n",
       "        vertical-align: middle;\n",
       "    }\n",
       "\n",
       "    .dataframe tbody tr th {\n",
       "        vertical-align: top;\n",
       "    }\n",
       "\n",
       "    .dataframe thead th {\n",
       "        text-align: right;\n",
       "    }\n",
       "</style>\n",
       "<table border=\"1\" class=\"dataframe\">\n",
       "  <thead>\n",
       "    <tr style=\"text-align: right;\">\n",
       "      <th></th>\n",
       "      <th>pred</th>\n",
       "      <th>user_score</th>\n",
       "    </tr>\n",
       "  </thead>\n",
       "  <tbody>\n",
       "    <tr>\n",
       "      <th>0</th>\n",
       "      <td>0.666939</td>\n",
       "      <td>0.777778</td>\n",
       "    </tr>\n",
       "    <tr>\n",
       "      <th>1</th>\n",
       "      <td>0.731643</td>\n",
       "      <td>0.777778</td>\n",
       "    </tr>\n",
       "    <tr>\n",
       "      <th>2</th>\n",
       "      <td>0.820035</td>\n",
       "      <td>0.666667</td>\n",
       "    </tr>\n",
       "    <tr>\n",
       "      <th>3</th>\n",
       "      <td>0.684945</td>\n",
       "      <td>0.777778</td>\n",
       "    </tr>\n",
       "    <tr>\n",
       "      <th>4</th>\n",
       "      <td>0.763537</td>\n",
       "      <td>0.666667</td>\n",
       "    </tr>\n",
       "    <tr>\n",
       "      <th>...</th>\n",
       "      <td>...</td>\n",
       "      <td>...</td>\n",
       "    </tr>\n",
       "    <tr>\n",
       "      <th>453817</th>\n",
       "      <td>0.514691</td>\n",
       "      <td>0.555556</td>\n",
       "    </tr>\n",
       "    <tr>\n",
       "      <th>453818</th>\n",
       "      <td>0.638451</td>\n",
       "      <td>0.777778</td>\n",
       "    </tr>\n",
       "    <tr>\n",
       "      <th>453819</th>\n",
       "      <td>0.609294</td>\n",
       "      <td>0.333333</td>\n",
       "    </tr>\n",
       "    <tr>\n",
       "      <th>453820</th>\n",
       "      <td>0.474019</td>\n",
       "      <td>0.222222</td>\n",
       "    </tr>\n",
       "    <tr>\n",
       "      <th>453821</th>\n",
       "      <td>0.786392</td>\n",
       "      <td>0.777778</td>\n",
       "    </tr>\n",
       "  </tbody>\n",
       "</table>\n",
       "<p>453822 rows × 2 columns</p>\n",
       "</div>"
      ],
      "text/plain": [
       "            pred  user_score\n",
       "0       0.666939    0.777778\n",
       "1       0.731643    0.777778\n",
       "2       0.820035    0.666667\n",
       "3       0.684945    0.777778\n",
       "4       0.763537    0.666667\n",
       "...          ...         ...\n",
       "453817  0.514691    0.555556\n",
       "453818  0.638451    0.777778\n",
       "453819  0.609294    0.333333\n",
       "453820  0.474019    0.222222\n",
       "453821  0.786392    0.777778\n",
       "\n",
       "[453822 rows x 2 columns]"
      ]
     },
     "execution_count": 27,
     "metadata": {},
     "output_type": "execute_result"
    }
   ],
   "source": [
    "dat_1_2"
   ]
  },
  {
   "cell_type": "code",
   "execution_count": 28,
   "metadata": {},
   "outputs": [],
   "source": [
    "model.save('model/model_impl.h5')"
   ]
  },
  {
   "cell_type": "code",
   "execution_count": 29,
   "metadata": {},
   "outputs": [
    {
     "data": {
      "text/plain": [
       "1076833    14333\n",
       "668168      8062\n",
       "227396      2699\n",
       "546016      6625\n",
       "538922      6551\n",
       "           ...  \n",
       "1031625    13715\n",
       "1382985    18328\n",
       "1172547    15636\n",
       "97633       1137\n",
       "152041      1804\n",
       "Name: user_id, Length: 453822, dtype: int64"
      ]
     },
     "execution_count": 29,
     "metadata": {},
     "output_type": "execute_result"
    }
   ],
   "source": [
    "user_id_test"
   ]
  },
  {
   "cell_type": "code",
   "execution_count": 30,
   "metadata": {},
   "outputs": [
    {
     "data": {
      "text/plain": [
       "1076833     3901.0\n",
       "668168      1498.0\n",
       "227396     32542.0\n",
       "546016      3858.0\n",
       "538922     17121.0\n",
       "            ...   \n",
       "1031625     3016.0\n",
       "1382985     3785.0\n",
       "1172547    36873.0\n",
       "97633        903.0\n",
       "152041      3652.0\n",
       "Name: anime_id, Length: 453822, dtype: float64"
      ]
     },
     "execution_count": 30,
     "metadata": {},
     "output_type": "execute_result"
    }
   ],
   "source": [
    "anime_id_test"
   ]
  },
  {
   "cell_type": "code",
   "execution_count": 31,
   "metadata": {},
   "outputs": [
    {
     "data": {
      "text/html": [
       "<div>\n",
       "<style scoped>\n",
       "    .dataframe tbody tr th:only-of-type {\n",
       "        vertical-align: middle;\n",
       "    }\n",
       "\n",
       "    .dataframe tbody tr th {\n",
       "        vertical-align: top;\n",
       "    }\n",
       "\n",
       "    .dataframe thead th {\n",
       "        text-align: right;\n",
       "    }\n",
       "</style>\n",
       "<table border=\"1\" class=\"dataframe\">\n",
       "  <thead>\n",
       "    <tr style=\"text-align: right;\">\n",
       "      <th></th>\n",
       "      <th>score</th>\n",
       "      <th>members</th>\n",
       "      <th>type</th>\n",
       "      <th>studio</th>\n",
       "      <th>episode_count</th>\n",
       "      <th>Action</th>\n",
       "      <th>Adult Cast</th>\n",
       "      <th>Adventure</th>\n",
       "      <th>Anthropomorphic</th>\n",
       "      <th>Avant Garde</th>\n",
       "      <th>...</th>\n",
       "      <th>Super Power</th>\n",
       "      <th>Supernatural</th>\n",
       "      <th>Survival</th>\n",
       "      <th>Suspense</th>\n",
       "      <th>Team Sports</th>\n",
       "      <th>Time Travel</th>\n",
       "      <th>Vampire</th>\n",
       "      <th>Video Game</th>\n",
       "      <th>Visual Arts</th>\n",
       "      <th>Workplace</th>\n",
       "    </tr>\n",
       "  </thead>\n",
       "  <tbody>\n",
       "    <tr>\n",
       "      <th>1076833</th>\n",
       "      <td>0.889133</td>\n",
       "      <td>0.048063</td>\n",
       "      <td>3</td>\n",
       "      <td>107</td>\n",
       "      <td>0.000981</td>\n",
       "      <td>1</td>\n",
       "      <td>0</td>\n",
       "      <td>0</td>\n",
       "      <td>0</td>\n",
       "      <td>0</td>\n",
       "      <td>...</td>\n",
       "      <td>0</td>\n",
       "      <td>1</td>\n",
       "      <td>0</td>\n",
       "      <td>0</td>\n",
       "      <td>0</td>\n",
       "      <td>0</td>\n",
       "      <td>0</td>\n",
       "      <td>0</td>\n",
       "      <td>0</td>\n",
       "      <td>0</td>\n",
       "    </tr>\n",
       "    <tr>\n",
       "      <th>668168</th>\n",
       "      <td>0.780461</td>\n",
       "      <td>0.027775</td>\n",
       "      <td>4</td>\n",
       "      <td>267</td>\n",
       "      <td>0.003925</td>\n",
       "      <td>1</td>\n",
       "      <td>0</td>\n",
       "      <td>0</td>\n",
       "      <td>0</td>\n",
       "      <td>0</td>\n",
       "      <td>...</td>\n",
       "      <td>0</td>\n",
       "      <td>1</td>\n",
       "      <td>0</td>\n",
       "      <td>0</td>\n",
       "      <td>0</td>\n",
       "      <td>0</td>\n",
       "      <td>1</td>\n",
       "      <td>0</td>\n",
       "      <td>0</td>\n",
       "      <td>0</td>\n",
       "    </tr>\n",
       "    <tr>\n",
       "      <th>227396</th>\n",
       "      <td>0.829857</td>\n",
       "      <td>0.198872</td>\n",
       "      <td>4</td>\n",
       "      <td>665</td>\n",
       "      <td>0.003925</td>\n",
       "      <td>0</td>\n",
       "      <td>0</td>\n",
       "      <td>0</td>\n",
       "      <td>0</td>\n",
       "      <td>0</td>\n",
       "      <td>...</td>\n",
       "      <td>0</td>\n",
       "      <td>0</td>\n",
       "      <td>0</td>\n",
       "      <td>0</td>\n",
       "      <td>0</td>\n",
       "      <td>0</td>\n",
       "      <td>0</td>\n",
       "      <td>0</td>\n",
       "      <td>0</td>\n",
       "      <td>0</td>\n",
       "    </tr>\n",
       "    <tr>\n",
       "      <th>546016</th>\n",
       "      <td>0.737651</td>\n",
       "      <td>0.000836</td>\n",
       "      <td>4</td>\n",
       "      <td>770</td>\n",
       "      <td>0.029768</td>\n",
       "      <td>0</td>\n",
       "      <td>0</td>\n",
       "      <td>1</td>\n",
       "      <td>0</td>\n",
       "      <td>0</td>\n",
       "      <td>...</td>\n",
       "      <td>0</td>\n",
       "      <td>0</td>\n",
       "      <td>0</td>\n",
       "      <td>0</td>\n",
       "      <td>0</td>\n",
       "      <td>0</td>\n",
       "      <td>0</td>\n",
       "      <td>0</td>\n",
       "      <td>0</td>\n",
       "      <td>0</td>\n",
       "    </tr>\n",
       "    <tr>\n",
       "      <th>538922</th>\n",
       "      <td>0.804610</td>\n",
       "      <td>0.018809</td>\n",
       "      <td>0</td>\n",
       "      <td>137</td>\n",
       "      <td>0.000327</td>\n",
       "      <td>0</td>\n",
       "      <td>0</td>\n",
       "      <td>0</td>\n",
       "      <td>0</td>\n",
       "      <td>0</td>\n",
       "      <td>...</td>\n",
       "      <td>0</td>\n",
       "      <td>0</td>\n",
       "      <td>0</td>\n",
       "      <td>0</td>\n",
       "      <td>0</td>\n",
       "      <td>0</td>\n",
       "      <td>0</td>\n",
       "      <td>0</td>\n",
       "      <td>0</td>\n",
       "      <td>0</td>\n",
       "    </tr>\n",
       "    <tr>\n",
       "      <th>...</th>\n",
       "      <td>...</td>\n",
       "      <td>...</td>\n",
       "      <td>...</td>\n",
       "      <td>...</td>\n",
       "      <td>...</td>\n",
       "      <td>...</td>\n",
       "      <td>...</td>\n",
       "      <td>...</td>\n",
       "      <td>...</td>\n",
       "      <td>...</td>\n",
       "      <td>...</td>\n",
       "      <td>...</td>\n",
       "      <td>...</td>\n",
       "      <td>...</td>\n",
       "      <td>...</td>\n",
       "      <td>...</td>\n",
       "      <td>...</td>\n",
       "      <td>...</td>\n",
       "      <td>...</td>\n",
       "      <td>...</td>\n",
       "      <td>...</td>\n",
       "    </tr>\n",
       "    <tr>\n",
       "      <th>1031625</th>\n",
       "      <td>0.888035</td>\n",
       "      <td>0.008949</td>\n",
       "      <td>0</td>\n",
       "      <td>357</td>\n",
       "      <td>0.000327</td>\n",
       "      <td>1</td>\n",
       "      <td>1</td>\n",
       "      <td>0</td>\n",
       "      <td>0</td>\n",
       "      <td>0</td>\n",
       "      <td>...</td>\n",
       "      <td>0</td>\n",
       "      <td>0</td>\n",
       "      <td>0</td>\n",
       "      <td>0</td>\n",
       "      <td>0</td>\n",
       "      <td>0</td>\n",
       "      <td>0</td>\n",
       "      <td>0</td>\n",
       "      <td>0</td>\n",
       "      <td>0</td>\n",
       "    </tr>\n",
       "    <tr>\n",
       "      <th>1382985</th>\n",
       "      <td>0.837541</td>\n",
       "      <td>0.112007</td>\n",
       "      <td>0</td>\n",
       "      <td>354</td>\n",
       "      <td>0.000327</td>\n",
       "      <td>1</td>\n",
       "      <td>0</td>\n",
       "      <td>0</td>\n",
       "      <td>0</td>\n",
       "      <td>0</td>\n",
       "      <td>...</td>\n",
       "      <td>0</td>\n",
       "      <td>0</td>\n",
       "      <td>0</td>\n",
       "      <td>0</td>\n",
       "      <td>0</td>\n",
       "      <td>0</td>\n",
       "      <td>0</td>\n",
       "      <td>0</td>\n",
       "      <td>0</td>\n",
       "      <td>0</td>\n",
       "    </tr>\n",
       "    <tr>\n",
       "      <th>1172547</th>\n",
       "      <td>0.762898</td>\n",
       "      <td>0.038085</td>\n",
       "      <td>4</td>\n",
       "      <td>315</td>\n",
       "      <td>0.003271</td>\n",
       "      <td>0</td>\n",
       "      <td>0</td>\n",
       "      <td>0</td>\n",
       "      <td>0</td>\n",
       "      <td>0</td>\n",
       "      <td>...</td>\n",
       "      <td>0</td>\n",
       "      <td>0</td>\n",
       "      <td>0</td>\n",
       "      <td>0</td>\n",
       "      <td>0</td>\n",
       "      <td>0</td>\n",
       "      <td>0</td>\n",
       "      <td>0</td>\n",
       "      <td>0</td>\n",
       "      <td>1</td>\n",
       "    </tr>\n",
       "    <tr>\n",
       "      <th>97633</th>\n",
       "      <td>0.743139</td>\n",
       "      <td>0.034414</td>\n",
       "      <td>0</td>\n",
       "      <td>789</td>\n",
       "      <td>0.000327</td>\n",
       "      <td>1</td>\n",
       "      <td>0</td>\n",
       "      <td>1</td>\n",
       "      <td>0</td>\n",
       "      <td>0</td>\n",
       "      <td>...</td>\n",
       "      <td>1</td>\n",
       "      <td>0</td>\n",
       "      <td>0</td>\n",
       "      <td>0</td>\n",
       "      <td>0</td>\n",
       "      <td>0</td>\n",
       "      <td>0</td>\n",
       "      <td>0</td>\n",
       "      <td>0</td>\n",
       "      <td>0</td>\n",
       "    </tr>\n",
       "    <tr>\n",
       "      <th>152041</th>\n",
       "      <td>0.813392</td>\n",
       "      <td>0.051656</td>\n",
       "      <td>2</td>\n",
       "      <td>665</td>\n",
       "      <td>0.001636</td>\n",
       "      <td>0</td>\n",
       "      <td>0</td>\n",
       "      <td>0</td>\n",
       "      <td>0</td>\n",
       "      <td>0</td>\n",
       "      <td>...</td>\n",
       "      <td>0</td>\n",
       "      <td>1</td>\n",
       "      <td>0</td>\n",
       "      <td>1</td>\n",
       "      <td>0</td>\n",
       "      <td>0</td>\n",
       "      <td>0</td>\n",
       "      <td>0</td>\n",
       "      <td>0</td>\n",
       "      <td>0</td>\n",
       "    </tr>\n",
       "  </tbody>\n",
       "</table>\n",
       "<p>453822 rows × 81 columns</p>\n",
       "</div>"
      ],
      "text/plain": [
       "            score   members  type  studio  episode_count  Action  Adult Cast  \\\n",
       "1076833  0.889133  0.048063     3     107       0.000981       1           0   \n",
       "668168   0.780461  0.027775     4     267       0.003925       1           0   \n",
       "227396   0.829857  0.198872     4     665       0.003925       0           0   \n",
       "546016   0.737651  0.000836     4     770       0.029768       0           0   \n",
       "538922   0.804610  0.018809     0     137       0.000327       0           0   \n",
       "...           ...       ...   ...     ...            ...     ...         ...   \n",
       "1031625  0.888035  0.008949     0     357       0.000327       1           1   \n",
       "1382985  0.837541  0.112007     0     354       0.000327       1           0   \n",
       "1172547  0.762898  0.038085     4     315       0.003271       0           0   \n",
       "97633    0.743139  0.034414     0     789       0.000327       1           0   \n",
       "152041   0.813392  0.051656     2     665       0.001636       0           0   \n",
       "\n",
       "         Adventure  Anthropomorphic  Avant Garde  ...  Super Power  \\\n",
       "1076833          0                0            0  ...            0   \n",
       "668168           0                0            0  ...            0   \n",
       "227396           0                0            0  ...            0   \n",
       "546016           1                0            0  ...            0   \n",
       "538922           0                0            0  ...            0   \n",
       "...            ...              ...          ...  ...          ...   \n",
       "1031625          0                0            0  ...            0   \n",
       "1382985          0                0            0  ...            0   \n",
       "1172547          0                0            0  ...            0   \n",
       "97633            1                0            0  ...            1   \n",
       "152041           0                0            0  ...            0   \n",
       "\n",
       "         Supernatural  Survival  Suspense  Team Sports  Time Travel  Vampire  \\\n",
       "1076833             1         0         0            0            0        0   \n",
       "668168              1         0         0            0            0        1   \n",
       "227396              0         0         0            0            0        0   \n",
       "546016              0         0         0            0            0        0   \n",
       "538922              0         0         0            0            0        0   \n",
       "...               ...       ...       ...          ...          ...      ...   \n",
       "1031625             0         0         0            0            0        0   \n",
       "1382985             0         0         0            0            0        0   \n",
       "1172547             0         0         0            0            0        0   \n",
       "97633               0         0         0            0            0        0   \n",
       "152041              1         0         1            0            0        0   \n",
       "\n",
       "         Video Game  Visual Arts  Workplace  \n",
       "1076833           0            0          0  \n",
       "668168            0            0          0  \n",
       "227396            0            0          0  \n",
       "546016            0            0          0  \n",
       "538922            0            0          0  \n",
       "...             ...          ...        ...  \n",
       "1031625           0            0          0  \n",
       "1382985           0            0          0  \n",
       "1172547           0            0          1  \n",
       "97633             0            0          0  \n",
       "152041            0            0          0  \n",
       "\n",
       "[453822 rows x 81 columns]"
      ]
     },
     "execution_count": 31,
     "metadata": {},
     "output_type": "execute_result"
    }
   ],
   "source": [
    "anime_content_test"
   ]
  },
  {
   "cell_type": "code",
   "execution_count": null,
   "metadata": {},
   "outputs": [],
   "source": []
  }
 ],
 "metadata": {
  "kernelspec": {
   "display_name": "Python 3",
   "language": "python",
   "name": "python3"
  },
  "language_info": {
   "codemirror_mode": {
    "name": "ipython",
    "version": 3
   },
   "file_extension": ".py",
   "mimetype": "text/x-python",
   "name": "python",
   "nbconvert_exporter": "python",
   "pygments_lexer": "ipython3",
   "version": "3.10.0"
  },
  "orig_nbformat": 4,
  "vscode": {
   "interpreter": {
    "hash": "a8fa90e972fba6d68c64ef3093ddfeebf6f186bad7c54fab3857fbd07ec9312a"
   }
  }
 },
 "nbformat": 4,
 "nbformat_minor": 2
}
