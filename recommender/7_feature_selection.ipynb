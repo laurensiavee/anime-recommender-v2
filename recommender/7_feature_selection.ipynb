{
 "cells": [
  {
   "attachments": {},
   "cell_type": "markdown",
   "metadata": {},
   "source": [
    "# ANIME RECOMMENDER SYSTEM - FEATURE SELECTION FOR TWO TOWER NEURAL NET"
   ]
  },
  {
   "cell_type": "code",
   "execution_count": 1,
   "metadata": {},
   "outputs": [],
   "source": [
    "# basic library\n",
    "import numpy as np \n",
    "import pandas as pd \n",
    "import seaborn as sns\n",
    "import matplotlib.pyplot as plt\n",
    "import warnings\n",
    "warnings.filterwarnings('ignore')\n",
    "import itertools\n",
    "import collections\n",
    "import pickle"
   ]
  },
  {
   "cell_type": "code",
   "execution_count": 2,
   "metadata": {},
   "outputs": [
    {
     "data": {
      "text/html": [
       "<div>\n",
       "<style scoped>\n",
       "    .dataframe tbody tr th:only-of-type {\n",
       "        vertical-align: middle;\n",
       "    }\n",
       "\n",
       "    .dataframe tbody tr th {\n",
       "        vertical-align: top;\n",
       "    }\n",
       "\n",
       "    .dataframe thead th {\n",
       "        text-align: right;\n",
       "    }\n",
       "</style>\n",
       "<table border=\"1\" class=\"dataframe\">\n",
       "  <thead>\n",
       "    <tr style=\"text-align: right;\">\n",
       "      <th></th>\n",
       "      <th>user_id</th>\n",
       "      <th>user_score</th>\n",
       "      <th>num_watched_episodes</th>\n",
       "      <th>created_at</th>\n",
       "      <th>updated_at</th>\n",
       "      <th>anime_id</th>\n",
       "      <th>score</th>\n",
       "      <th>rating_count</th>\n",
       "      <th>ranked</th>\n",
       "      <th>popularity</th>\n",
       "      <th>...</th>\n",
       "      <th>90.1</th>\n",
       "      <th>91.1</th>\n",
       "      <th>92.1</th>\n",
       "      <th>93.1</th>\n",
       "      <th>94.1</th>\n",
       "      <th>95.1</th>\n",
       "      <th>96.1</th>\n",
       "      <th>97.1</th>\n",
       "      <th>98.1</th>\n",
       "      <th>99.1</th>\n",
       "    </tr>\n",
       "  </thead>\n",
       "  <tbody>\n",
       "    <tr>\n",
       "      <th>0</th>\n",
       "      <td>2</td>\n",
       "      <td>0.333333</td>\n",
       "      <td>0.0</td>\n",
       "      <td>0.955898</td>\n",
       "      <td>0.955868</td>\n",
       "      <td>51478.0</td>\n",
       "      <td>0.657519</td>\n",
       "      <td>0.000078</td>\n",
       "      <td>0.433446</td>\n",
       "      <td>0.659523</td>\n",
       "      <td>...</td>\n",
       "      <td>0.596212</td>\n",
       "      <td>0.217721</td>\n",
       "      <td>1.838360</td>\n",
       "      <td>0.042340</td>\n",
       "      <td>1.145339</td>\n",
       "      <td>1.070628</td>\n",
       "      <td>0.395487</td>\n",
       "      <td>-1.646196</td>\n",
       "      <td>1.079035</td>\n",
       "      <td>-1.950778</td>\n",
       "    </tr>\n",
       "    <tr>\n",
       "      <th>1</th>\n",
       "      <td>2</td>\n",
       "      <td>0.333333</td>\n",
       "      <td>0.0</td>\n",
       "      <td>0.489645</td>\n",
       "      <td>0.489585</td>\n",
       "      <td>20707.0</td>\n",
       "      <td>0.510428</td>\n",
       "      <td>0.000886</td>\n",
       "      <td>0.606797</td>\n",
       "      <td>0.359825</td>\n",
       "      <td>...</td>\n",
       "      <td>0.618644</td>\n",
       "      <td>0.333750</td>\n",
       "      <td>-0.046266</td>\n",
       "      <td>-0.050403</td>\n",
       "      <td>1.197766</td>\n",
       "      <td>1.141678</td>\n",
       "      <td>0.875986</td>\n",
       "      <td>0.018911</td>\n",
       "      <td>0.321838</td>\n",
       "      <td>1.493473</td>\n",
       "    </tr>\n",
       "    <tr>\n",
       "      <th>2</th>\n",
       "      <td>2</td>\n",
       "      <td>0.444444</td>\n",
       "      <td>0.0</td>\n",
       "      <td>0.320126</td>\n",
       "      <td>0.405519</td>\n",
       "      <td>6408.0</td>\n",
       "      <td>0.806806</td>\n",
       "      <td>0.010543</td>\n",
       "      <td>0.104873</td>\n",
       "      <td>0.101118</td>\n",
       "      <td>...</td>\n",
       "      <td>-1.522952</td>\n",
       "      <td>-1.433554</td>\n",
       "      <td>1.273498</td>\n",
       "      <td>-0.232032</td>\n",
       "      <td>-1.653154</td>\n",
       "      <td>0.006966</td>\n",
       "      <td>-0.411651</td>\n",
       "      <td>-0.085913</td>\n",
       "      <td>-0.046999</td>\n",
       "      <td>0.126875</td>\n",
       "    </tr>\n",
       "    <tr>\n",
       "      <th>3</th>\n",
       "      <td>2</td>\n",
       "      <td>0.444444</td>\n",
       "      <td>0.0</td>\n",
       "      <td>0.780366</td>\n",
       "      <td>0.780325</td>\n",
       "      <td>38045.0</td>\n",
       "      <td>0.521405</td>\n",
       "      <td>0.000117</td>\n",
       "      <td>0.602439</td>\n",
       "      <td>0.582302</td>\n",
       "      <td>...</td>\n",
       "      <td>2.165188</td>\n",
       "      <td>0.823112</td>\n",
       "      <td>0.968126</td>\n",
       "      <td>0.878279</td>\n",
       "      <td>-0.050054</td>\n",
       "      <td>-1.010264</td>\n",
       "      <td>1.898099</td>\n",
       "      <td>0.380272</td>\n",
       "      <td>1.962767</td>\n",
       "      <td>0.592570</td>\n",
       "    </tr>\n",
       "    <tr>\n",
       "      <th>4</th>\n",
       "      <td>2</td>\n",
       "      <td>0.555556</td>\n",
       "      <td>0.0</td>\n",
       "      <td>0.925591</td>\n",
       "      <td>0.925560</td>\n",
       "      <td>49668.0</td>\n",
       "      <td>0.665203</td>\n",
       "      <td>0.000067</td>\n",
       "      <td>0.417080</td>\n",
       "      <td>0.667900</td>\n",
       "      <td>...</td>\n",
       "      <td>-1.620628</td>\n",
       "      <td>1.724651</td>\n",
       "      <td>-1.421249</td>\n",
       "      <td>-0.439511</td>\n",
       "      <td>1.317626</td>\n",
       "      <td>-1.062979</td>\n",
       "      <td>-0.975355</td>\n",
       "      <td>-0.172202</td>\n",
       "      <td>-0.323175</td>\n",
       "      <td>-1.700174</td>\n",
       "    </tr>\n",
       "  </tbody>\n",
       "</table>\n",
       "<p>5 rows × 290 columns</p>\n",
       "</div>"
      ],
      "text/plain": [
       "   user_id  user_score  num_watched_episodes  created_at  updated_at  \\\n",
       "0        2    0.333333                   0.0    0.955898    0.955868   \n",
       "1        2    0.333333                   0.0    0.489645    0.489585   \n",
       "2        2    0.444444                   0.0    0.320126    0.405519   \n",
       "3        2    0.444444                   0.0    0.780366    0.780325   \n",
       "4        2    0.555556                   0.0    0.925591    0.925560   \n",
       "\n",
       "   anime_id     score  rating_count    ranked  popularity  ...      90.1  \\\n",
       "0   51478.0  0.657519      0.000078  0.433446    0.659523  ...  0.596212   \n",
       "1   20707.0  0.510428      0.000886  0.606797    0.359825  ...  0.618644   \n",
       "2    6408.0  0.806806      0.010543  0.104873    0.101118  ... -1.522952   \n",
       "3   38045.0  0.521405      0.000117  0.602439    0.582302  ...  2.165188   \n",
       "4   49668.0  0.665203      0.000067  0.417080    0.667900  ... -1.620628   \n",
       "\n",
       "       91.1      92.1      93.1      94.1      95.1      96.1      97.1  \\\n",
       "0  0.217721  1.838360  0.042340  1.145339  1.070628  0.395487 -1.646196   \n",
       "1  0.333750 -0.046266 -0.050403  1.197766  1.141678  0.875986  0.018911   \n",
       "2 -1.433554  1.273498 -0.232032 -1.653154  0.006966 -0.411651 -0.085913   \n",
       "3  0.823112  0.968126  0.878279 -0.050054 -1.010264  1.898099  0.380272   \n",
       "4  1.724651 -1.421249 -0.439511  1.317626 -1.062979 -0.975355 -0.172202   \n",
       "\n",
       "       98.1      99.1  \n",
       "0  1.079035 -1.950778  \n",
       "1  0.321838  1.493473  \n",
       "2 -0.046999  0.126875  \n",
       "3  1.962767  0.592570  \n",
       "4 -0.323175 -1.700174  \n",
       "\n",
       "[5 rows x 290 columns]"
      ]
     },
     "execution_count": 2,
     "metadata": {},
     "output_type": "execute_result"
    }
   ],
   "source": [
    "# load data\n",
    "merged_df = pd.read_csv('dataset/processed_dataset/merged.csv')\n",
    "merged_df.head()"
   ]
  },
  {
   "attachments": {},
   "cell_type": "markdown",
   "metadata": {},
   "source": [
    "all column:\n",
    "\n",
    "user_id,user_score,num_watched_episodes,created_at,updated_at,anime_id,score,rating_count,ranked,popularity,members,type,studio,episode_count,Action,Adult Cast,Adventure,Anthropomorphic,Avant Garde,Award Winning,Boys Love,CGDCT,Childcare,Combat Sports,Comedy,Crossdressing,Delinquents,Detective,Drama,Ecchi,Educational,Erotica,Fantasy,Gag Humor,Girls Love,Gore,Gourmet,Harem,Hentai,High Stakes Game,Historical,Horror,Idols (Female),Idols (Male),Isekai,Iyashikei,Josei,Kids,Love Polygon,Magical Sex Shift,Mahou Shoujo,Martial Arts,Mecha,Medical,Military,Music,Mystery,Mythology,Organized Crime,Otaku Culture,Parody,Performing Arts,Pets,Psychological,Racing,Reincarnation,Reverse Harem,Romance,Romantic Subtext,Samurai,School,Sci-Fi,Seinen,Shoujo,Shounen,Showbiz,Slice of Life,Space,Sports,Strategy Game,Super Power,Supernatural,Survival,Suspense,Team Sports,Time Travel,Vampire,Video Game,Visual Arts,Workplace,0,1,2,3,4,5,6,7,8,9,10,11,12,13,14,15,16,17,18,19,20,21,22,23,24,25,26,27,28,29,30,31,32,33,34,35,36,37,38,39,40,41,42,43,44,45,46,47,48,49,50,51,52,53,54,55,56,57,58,59,60,61,62,63,64,65,66,67,68,69,70,71,72,73,74,75,76,77,78,79,80,81,82,83,84,85,86,87,88,89,90,91,92,93,94,95,96,97,98,99,0.1,1.1,2.1,3.1,4.1,5.1,6.1,7.1,8.1,9.1,10.1,11.1,12.1,13.1,14.1,15.1,16.1,17.1,18.1,19.1,20.1,21.1,22.1,23.1,24.1,25.1,26.1,27.1,28.1,29.1,30.1,31.1,32.1,33.1,34.1,35.1,36.1,37.1,38.1,39.1,40.1,41.1,42.1,43.1,44.1,45.1,46.1,47.1,48.1,49.1,50.1,51.1,52.1,53.1,54.1,55.1,56.1,57.1,58.1,59.1,60.1,61.1,62.1,63.1,64.1,65.1,66.1,67.1,68.1,69.1,70.1,71.1,72.1,73.1,74.1,75.1,76.1,77.1,78.1,79.1,80.1,81.1,82.1,83.1,84.1,85.1,86.1,87.1,88.1,89.1,90.1,91.1,92.1,93.1,94.1,95.1,96.1,97.1,98.1,99.1"
   ]
  },
  {
   "attachments": {},
   "cell_type": "markdown",
   "metadata": {},
   "source": [
    "list:\n",
    "- case 1    : user-> all, item-> no word no img\n",
    "- case 2    : user-> all, item-> no img\n",
    "- case 3    : user-> all, item-> all "
   ]
  },
  {
   "attachments": {},
   "cell_type": "markdown",
   "metadata": {},
   "source": [
    "feature selection:\n",
    "delete: ranked, popularity, rating_count"
   ]
  },
  {
   "cell_type": "code",
   "execution_count": 3,
   "metadata": {},
   "outputs": [
    {
     "name": "stdout",
     "output_type": "stream",
     "text": [
      "<class 'pandas.core.frame.DataFrame'>\n",
      "RangeIndex: 1512740 entries, 0 to 1512739\n",
      "Columns: 290 entries, user_id to 99.1\n",
      "dtypes: float64(211), int64(79)\n",
      "memory usage: 3.3 GB\n"
     ]
    }
   ],
   "source": [
    "merged_df.info()"
   ]
  },
  {
   "cell_type": "code",
   "execution_count": 4,
   "metadata": {},
   "outputs": [],
   "source": [
    "all_col = ['user_id', 'user_score', 'num_watched_episodes','created_at','updated_at', 'anime_id', 'score','members', 'type', 'studio', 'episode_count', \n",
    "'Action','Adult Cast','Adventure','Anthropomorphic','Avant Garde','Award Winning','Boys Love','CGDCT','Childcare','Combat Sports','Comedy',\n",
    "'Crossdressing','Delinquents','Detective','Drama','Ecchi','Educational','Erotica','Fantasy','Gag Humor','Girls Love','Gore','Gourmet','Harem',\n",
    "'Hentai','High Stakes Game','Historical','Horror','Idols (Female)','Idols (Male)','Isekai','Iyashikei','Josei','Kids','Love Polygon',\n",
    "'Magical Sex Shift','Mahou Shoujo','Martial Arts','Mecha','Medical','Military','Music','Mystery','Mythology','Organized Crime','Otaku Culture',\n",
    "'Parody','Performing Arts','Pets','Psychological','Racing','Reincarnation','Reverse Harem','Romance','Romantic Subtext','Samurai','School','Sci-Fi',\n",
    "'Seinen','Shoujo','Shounen','Showbiz','Slice of Life','Space','Sports','Strategy Game','Super Power','Supernatural','Survival','Suspense','Team Sports',\n",
    "'Time Travel','Vampire','Video Game','Visual Arts','Workplace']"
   ]
  },
  {
   "cell_type": "code",
   "execution_count": 5,
   "metadata": {},
   "outputs": [],
   "source": [
    "merged_df_1 = merged_df[all_col]"
   ]
  },
  {
   "cell_type": "code",
   "execution_count": 6,
   "metadata": {},
   "outputs": [],
   "source": [
    "all_col_word = ['user_id', 'user_score', 'num_watched_episodes','created_at','updated_at', 'anime_id', 'score','members', 'type', 'studio', 'episode_count', \n",
    "'Action','Adult Cast','Adventure','Anthropomorphic','Avant Garde','Award Winning','Boys Love','CGDCT','Childcare','Combat Sports','Comedy',\n",
    "'Crossdressing','Delinquents','Detective','Drama','Ecchi','Educational','Erotica','Fantasy','Gag Humor','Girls Love','Gore','Gourmet','Harem',\n",
    "'Hentai','High Stakes Game','Historical','Horror','Idols (Female)','Idols (Male)','Isekai','Iyashikei','Josei','Kids','Love Polygon',\n",
    "'Magical Sex Shift','Mahou Shoujo','Martial Arts','Mecha','Medical','Military','Music','Mystery','Mythology','Organized Crime','Otaku Culture',\n",
    "'Parody','Performing Arts','Pets','Psychological','Racing','Reincarnation','Reverse Harem','Romance','Romantic Subtext','Samurai','School','Sci-Fi',\n",
    "'Seinen','Shoujo','Shounen','Showbiz','Slice of Life','Space','Sports','Strategy Game','Super Power','Supernatural','Survival','Suspense','Team Sports',\n",
    "'Time Travel','Vampire','Video Game','Visual Arts','Workplace']\n",
    "for i in range(100):\n",
    "    all_col_word.append(str(i))"
   ]
  },
  {
   "cell_type": "code",
   "execution_count": 7,
   "metadata": {},
   "outputs": [],
   "source": [
    "merged_df_2 = merged_df[all_col_word]"
   ]
  },
  {
   "cell_type": "code",
   "execution_count": 8,
   "metadata": {},
   "outputs": [],
   "source": [
    "merged_df_3 = merged_df.drop(['ranked', 'popularity', 'rating_count'], axis=1)"
   ]
  },
  {
   "cell_type": "code",
   "execution_count": null,
   "metadata": {},
   "outputs": [],
   "source": [
    "with open('./dataset/processed_dataset/merged/merged_df_1.pkl','wb') as f:\n",
    "    pickle.dump(merged_df_1, f)"
   ]
  },
  {
   "cell_type": "code",
   "execution_count": null,
   "metadata": {},
   "outputs": [],
   "source": [
    "with open('./dataset/processed_dataset/merged/merged_df_2.pkl','wb') as f:\n",
    "    pickle.dump(merged_df_2, f)"
   ]
  },
  {
   "cell_type": "code",
   "execution_count": null,
   "metadata": {},
   "outputs": [],
   "source": [
    "with open('./dataset/processed_dataset/merged/merged_df_3.pkl','wb') as f:\n",
    "    pickle.dump(merged_df_3, f)"
   ]
  }
 ],
 "metadata": {
  "kernelspec": {
   "display_name": "Python 3",
   "language": "python",
   "name": "python3"
  },
  "language_info": {
   "codemirror_mode": {
    "name": "ipython",
    "version": 3
   },
   "file_extension": ".py",
   "mimetype": "text/x-python",
   "name": "python",
   "nbconvert_exporter": "python",
   "pygments_lexer": "ipython3",
   "version": "3.10.0"
  },
  "orig_nbformat": 4,
  "vscode": {
   "interpreter": {
    "hash": "a8fa90e972fba6d68c64ef3093ddfeebf6f186bad7c54fab3857fbd07ec9312a"
   }
  }
 },
 "nbformat": 4,
 "nbformat_minor": 2
}
