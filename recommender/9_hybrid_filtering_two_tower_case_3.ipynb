{
 "cells": [
  {
   "attachments": {},
   "cell_type": "markdown",
   "metadata": {},
   "source": [
    "# ANIME RECOMMENDER SYSTEM - HYBRID FILTERING - TWO TOWER - CASE 3"
   ]
  },
  {
   "cell_type": "code",
   "execution_count": 1,
   "metadata": {},
   "outputs": [],
   "source": [
    "# basic library\n",
    "import numpy as np \n",
    "import pandas as pd \n",
    "import warnings\n",
    "warnings.filterwarnings('ignore')\n",
    "import pickle\n",
    "from PIL import Image"
   ]
  },
  {
   "cell_type": "code",
   "execution_count": 2,
   "metadata": {},
   "outputs": [],
   "source": [
    "# load data\n",
    "file = open('dataset/processed_dataset/merged/merged_df_3.pkl', 'rb')\n",
    "merged_df = pickle.load(file)"
   ]
  },
  {
   "cell_type": "code",
   "execution_count": 3,
   "metadata": {},
   "outputs": [
    {
     "name": "stdout",
     "output_type": "stream",
     "text": [
      "<class 'pandas.core.frame.DataFrame'>\n",
      "RangeIndex: 1512740 entries, 0 to 1512739\n",
      "Columns: 287 entries, user_id to 99.1\n",
      "dtypes: float64(208), int64(79)\n",
      "memory usage: 3.2 GB\n"
     ]
    }
   ],
   "source": [
    "merged_df.info()"
   ]
  },
  {
   "attachments": {},
   "cell_type": "markdown",
   "metadata": {},
   "source": [
    "## train test split"
   ]
  },
  {
   "cell_type": "code",
   "execution_count": 4,
   "metadata": {},
   "outputs": [],
   "source": [
    "from sklearn.utils import shuffle\n",
    "merged_df = shuffle(merged_df)"
   ]
  },
  {
   "cell_type": "code",
   "execution_count": 5,
   "metadata": {},
   "outputs": [],
   "source": [
    "from sklearn.model_selection import train_test_split\n",
    "y = merged_df.user_score\n",
    "x = merged_df.drop('user_score', axis=1)\n",
    "x_train, x_test, y_train, y_test = train_test_split(x,y,test_size=0.3, random_state=0)"
   ]
  },
  {
   "cell_type": "code",
   "execution_count": 6,
   "metadata": {},
   "outputs": [
    {
     "name": "stdout",
     "output_type": "stream",
     "text": [
      "(1058918, 286)\n",
      "(1058918,)\n",
      "(453822, 286)\n",
      "(453822,)\n"
     ]
    }
   ],
   "source": [
    "print(x_train.shape)\n",
    "print(y_train.shape)\n",
    "print(x_test.shape)\n",
    "print(y_test.shape)"
   ]
  },
  {
   "cell_type": "code",
   "execution_count": 7,
   "metadata": {},
   "outputs": [],
   "source": [
    "user_id_train = x_train.user_id\n",
    "anime_id_train = x_train.anime_id\n",
    "anime_content_train = x_train.drop(['user_id', 'anime_id', 'num_watched_episodes','created_at','updated_at'], axis=1)\n",
    "rating_content_train = x_train[['num_watched_episodes','created_at','updated_at']]"
   ]
  },
  {
   "cell_type": "code",
   "execution_count": 8,
   "metadata": {},
   "outputs": [],
   "source": [
    "user_id_test = x_test.user_id\n",
    "anime_id_test = x_test.anime_id\n",
    "anime_content_test = x_test.drop(['user_id', 'anime_id', 'num_watched_episodes','created_at','updated_at'], axis=1)\n",
    "rating_content_test = x_test[['num_watched_episodes','created_at','updated_at']]"
   ]
  },
  {
   "cell_type": "code",
   "execution_count": 9,
   "metadata": {},
   "outputs": [
    {
     "name": "stdout",
     "output_type": "stream",
     "text": [
      "(1058918,)\n",
      "(1058918,)\n",
      "(1058918, 281)\n",
      "(1058918, 3)\n"
     ]
    }
   ],
   "source": [
    "print(user_id_train.shape)\n",
    "print(anime_id_train.shape)\n",
    "print(anime_content_train.shape)\n",
    "print(rating_content_train.shape)"
   ]
  },
  {
   "attachments": {},
   "cell_type": "markdown",
   "metadata": {},
   "source": [
    "## model building"
   ]
  },
  {
   "cell_type": "code",
   "execution_count": 10,
   "metadata": {},
   "outputs": [],
   "source": [
    "from tensorflow import keras\n",
    "import tensorflow as tf\n",
    "from tensorflow.keras.regularizers import l2\n",
    "from tensorflow.keras.layers import Dense, Flatten, Conv2D, MaxPooling2D, Dropout, Activation, BatchNormalization, ReLU\n",
    "from tensorflow.keras.models import Sequential"
   ]
  },
  {
   "cell_type": "code",
   "execution_count": 11,
   "metadata": {},
   "outputs": [],
   "source": [
    "# #func api\n",
    "# user_id = keras.Input(shape=(1,), name=\"in\")\n",
    "# x = tf.keras.layers.Embedding(1058918, 32, input_length=1, embeddings_initializer=\"RandomNormal\",embeddings_regularizer=l2(0))(user_id)\n",
    "# x = Flatten()(x)\n",
    "# x = Dense(8, activation=\"relu\")(x)\n",
    "# x = Dense(4, activation=\"relu\")(x)\n",
    "# encoder_output = Dense(4, activation=\"relu\")(x)\n",
    "\n",
    "# anime_id = keras.Input(shape=(1,), name=\"in2\")\n",
    "# x2 = tf.keras.layers.Embedding(1058918, 32, input_length=1, embeddings_initializer=\"RandomNormal\",embeddings_regularizer=l2(0))(anime_id)\n",
    "# x2 = Flatten()(x2)\n",
    "# anime_content = keras.Input(shape=(284,), name=\"in2_2\")\n",
    "# x2_1 = Dense(128, activation=\"relu\")(anime_content)\n",
    "# x2_2 =tf.keras.layers.Concatenate(axis=1)([x2, x2_1])\n",
    "\n",
    "# x2_2 = Dense(8, activation=\"relu\")(x2_2)\n",
    "# x2_2 = Dense(4, activation=\"relu\")(x2_2)\n",
    "# encoder_output_2 = Dense(4, activation=\"relu\")(x2_2)\n",
    "\n",
    "# dotted = tf.keras.layers.Dot(axes=-1)([encoder_output, encoder_output_2])\n",
    "\n",
    "# model = keras.Model(inputs=[user_id, anime_id, anime_content], outputs=dotted, name=\"model\")"
   ]
  },
  {
   "cell_type": "code",
   "execution_count": 12,
   "metadata": {},
   "outputs": [],
   "source": [
    "#func api\n",
    "user_id = keras.Input(shape=(1,), name=\"in\")\n",
    "x = tf.keras.layers.Embedding(1058918, 32, input_length=1, embeddings_initializer=\"RandomNormal\",embeddings_regularizer=l2(0))(user_id)\n",
    "x = Flatten()(x)\n",
    "user_content = keras.Input(shape=(3,), name=\"in1_2\")\n",
    "x1_1 = Dense(128, activation=\"relu\")(user_content)\n",
    "x1_2 =tf.keras.layers.Concatenate(axis=1)([x, x1_1])\n",
    "\n",
    "x1_2 = Dense(8, activation=\"relu\")(x1_2)\n",
    "x1_2 = Dense(4, activation=\"relu\")(x1_2)\n",
    "encoder_output = Dense(4, activation=\"relu\")(x1_2)\n",
    "\n",
    "anime_id = keras.Input(shape=(1,), name=\"in2\")\n",
    "x2 = tf.keras.layers.Embedding(1058918, 32, input_length=1, embeddings_initializer=\"RandomNormal\",embeddings_regularizer=l2(0))(anime_id)\n",
    "x2 = Flatten()(x2)\n",
    "anime_content = keras.Input(shape=(281,), name=\"in2_2\")\n",
    "x2_1 = Dense(128, activation=\"relu\")(anime_content)\n",
    "x2_2 =tf.keras.layers.Concatenate(axis=1)([x2, x2_1])\n",
    "\n",
    "x2_2 = Dense(8, activation=\"relu\")(x2_2)\n",
    "x2_2 = Dense(4, activation=\"relu\")(x2_2)\n",
    "encoder_output_2 = Dense(4, activation=\"relu\")(x2_2)\n",
    "\n",
    "dotted = tf.keras.layers.Dot(axes=-1)([encoder_output, encoder_output_2])\n",
    "\n",
    "model = keras.Model(inputs=[user_id, user_content, anime_id, anime_content], outputs=dotted, name=\"model\")"
   ]
  },
  {
   "cell_type": "code",
   "execution_count": 13,
   "metadata": {},
   "outputs": [
    {
     "name": "stdout",
     "output_type": "stream",
     "text": [
      "Model: \"model\"\n",
      "__________________________________________________________________________________________________\n",
      " Layer (type)                   Output Shape         Param #     Connected to                     \n",
      "==================================================================================================\n",
      " in (InputLayer)                [(None, 1)]          0           []                               \n",
      "                                                                                                  \n",
      " in2 (InputLayer)               [(None, 1)]          0           []                               \n",
      "                                                                                                  \n",
      " embedding (Embedding)          (None, 1, 32)        33885376    ['in[0][0]']                     \n",
      "                                                                                                  \n",
      " in1_2 (InputLayer)             [(None, 3)]          0           []                               \n",
      "                                                                                                  \n",
      " embedding_1 (Embedding)        (None, 1, 32)        33885376    ['in2[0][0]']                    \n",
      "                                                                                                  \n",
      " in2_2 (InputLayer)             [(None, 281)]        0           []                               \n",
      "                                                                                                  \n",
      " flatten (Flatten)              (None, 32)           0           ['embedding[0][0]']              \n",
      "                                                                                                  \n",
      " dense (Dense)                  (None, 128)          512         ['in1_2[0][0]']                  \n",
      "                                                                                                  \n",
      " flatten_1 (Flatten)            (None, 32)           0           ['embedding_1[0][0]']            \n",
      "                                                                                                  \n",
      " dense_4 (Dense)                (None, 128)          36096       ['in2_2[0][0]']                  \n",
      "                                                                                                  \n",
      " concatenate (Concatenate)      (None, 160)          0           ['flatten[0][0]',                \n",
      "                                                                  'dense[0][0]']                  \n",
      "                                                                                                  \n",
      " concatenate_1 (Concatenate)    (None, 160)          0           ['flatten_1[0][0]',              \n",
      "                                                                  'dense_4[0][0]']                \n",
      "                                                                                                  \n",
      " dense_1 (Dense)                (None, 8)            1288        ['concatenate[0][0]']            \n",
      "                                                                                                  \n",
      " dense_5 (Dense)                (None, 8)            1288        ['concatenate_1[0][0]']          \n",
      "                                                                                                  \n",
      " dense_2 (Dense)                (None, 4)            36          ['dense_1[0][0]']                \n",
      "                                                                                                  \n",
      " dense_6 (Dense)                (None, 4)            36          ['dense_5[0][0]']                \n",
      "                                                                                                  \n",
      " dense_3 (Dense)                (None, 4)            20          ['dense_2[0][0]']                \n",
      "                                                                                                  \n",
      " dense_7 (Dense)                (None, 4)            20          ['dense_6[0][0]']                \n",
      "                                                                                                  \n",
      " dot (Dot)                      (None, 1)            0           ['dense_3[0][0]',                \n",
      "                                                                  'dense_7[0][0]']                \n",
      "                                                                                                  \n",
      "==================================================================================================\n",
      "Total params: 67,810,048\n",
      "Trainable params: 67,810,048\n",
      "Non-trainable params: 0\n",
      "__________________________________________________________________________________________________\n"
     ]
    }
   ],
   "source": [
    "model.summary()"
   ]
  },
  {
   "cell_type": "code",
   "execution_count": 14,
   "metadata": {},
   "outputs": [
    {
     "name": "stdout",
     "output_type": "stream",
     "text": [
      "Epoch 1/10\n",
      "104/104 [==============================] - 129s 1s/step - loss: 0.0881 - mean_squared_error: 0.0881 - val_loss: 0.0254 - val_mean_squared_error: 0.0254\n",
      "Epoch 2/10\n",
      "104/104 [==============================] - 134s 1s/step - loss: 0.0215 - mean_squared_error: 0.0215 - val_loss: 0.0197 - val_mean_squared_error: 0.0197\n",
      "Epoch 3/10\n",
      "104/104 [==============================] - 128s 1s/step - loss: 0.0193 - mean_squared_error: 0.0193 - val_loss: 0.0198 - val_mean_squared_error: 0.0198\n",
      "Epoch 4/10\n",
      "104/104 [==============================] - 126s 1s/step - loss: 0.0189 - mean_squared_error: 0.0189 - val_loss: 0.0189 - val_mean_squared_error: 0.0189\n",
      "Epoch 5/10\n",
      "104/104 [==============================] - 122s 1s/step - loss: 0.0187 - mean_squared_error: 0.0187 - val_loss: 0.0191 - val_mean_squared_error: 0.0191\n",
      "Epoch 6/10\n",
      "104/104 [==============================] - 134s 1s/step - loss: 0.0186 - mean_squared_error: 0.0186 - val_loss: 0.0194 - val_mean_squared_error: 0.0194\n",
      "Epoch 7/10\n",
      "104/104 [==============================] - 135s 1s/step - loss: 0.0187 - mean_squared_error: 0.0187 - val_loss: 0.0189 - val_mean_squared_error: 0.0189\n",
      "Epoch 8/10\n",
      "104/104 [==============================] - 134s 1s/step - loss: 0.0186 - mean_squared_error: 0.0186 - val_loss: 0.0188 - val_mean_squared_error: 0.0188\n",
      "Epoch 9/10\n",
      "104/104 [==============================] - 130s 1s/step - loss: 0.0182 - mean_squared_error: 0.0182 - val_loss: 0.0187 - val_mean_squared_error: 0.0187\n",
      "Epoch 10/10\n",
      "104/104 [==============================] - 126s 1s/step - loss: 0.0183 - mean_squared_error: 0.0183 - val_loss: 0.0188 - val_mean_squared_error: 0.0188\n"
     ]
    }
   ],
   "source": [
    "optimizer = keras.optimizers.Adam(learning_rate=0.001, weight_decay=1e-4)\n",
    "\n",
    "model.compile(\n",
    "    loss='mean_squared_error', #mse\n",
    "    optimizer=optimizer,\n",
    "    metrics=[\"mean_squared_error\"], #mse \n",
    ")\n",
    "\n",
    "history = model.fit([user_id_train, rating_content_train, anime_id_train, anime_content_train], y_train, batch_size=8192, epochs=10, validation_split=0.2)"
   ]
  },
  {
   "cell_type": "code",
   "execution_count": 15,
   "metadata": {},
   "outputs": [
    {
     "name": "stdout",
     "output_type": "stream",
     "text": [
      "14182/14182 [==============================] - 16s 1ms/step\n"
     ]
    }
   ],
   "source": [
    "predictions = model.predict([user_id_test, rating_content_test, anime_id_test, anime_content_test])"
   ]
  },
  {
   "cell_type": "code",
   "execution_count": 16,
   "metadata": {},
   "outputs": [
    {
     "name": "stdout",
     "output_type": "stream",
     "text": [
      "<class 'numpy.ndarray'>\n"
     ]
    }
   ],
   "source": [
    "print(type(predictions))"
   ]
  },
  {
   "cell_type": "code",
   "execution_count": 17,
   "metadata": {},
   "outputs": [
    {
     "name": "stdout",
     "output_type": "stream",
     "text": [
      "MSE 0.01873869615636963\n"
     ]
    }
   ],
   "source": [
    "from sklearn.metrics import mean_squared_error\n",
    "print(\"MSE\",mean_squared_error(y_test,predictions))"
   ]
  },
  {
   "cell_type": "code",
   "execution_count": 18,
   "metadata": {},
   "outputs": [
    {
     "name": "stdout",
     "output_type": "stream",
     "text": [
      "MAE 0.1043918160194212\n"
     ]
    }
   ],
   "source": [
    "from sklearn.metrics import mean_absolute_error\n",
    "print(\"MAE\",mean_absolute_error(y_test,predictions))"
   ]
  },
  {
   "cell_type": "code",
   "execution_count": 19,
   "metadata": {},
   "outputs": [
    {
     "name": "stdout",
     "output_type": "stream",
     "text": [
      "r-squared 0.42446447111834607\n"
     ]
    }
   ],
   "source": [
    "from sklearn.metrics import r2_score\n",
    "print(\"r-squared\",r2_score(y_test,predictions))"
   ]
  },
  {
   "cell_type": "code",
   "execution_count": 20,
   "metadata": {},
   "outputs": [
    {
     "name": "stdout",
     "output_type": "stream",
     "text": [
      "RMSE 0.1368893573524605\n"
     ]
    }
   ],
   "source": [
    "from sklearn.metrics import mean_squared_error\n",
    "print(\"RMSE\",mean_squared_error(y_test,predictions, squared=False))"
   ]
  },
  {
   "cell_type": "code",
   "execution_count": 21,
   "metadata": {},
   "outputs": [],
   "source": [
    "test_arr = predictions.ravel()\n",
    "pred_arr = pd.DataFrame(test_arr, columns = ['pred'])"
   ]
  },
  {
   "cell_type": "code",
   "execution_count": 22,
   "metadata": {},
   "outputs": [],
   "source": [
    "y_test_df = y_test.to_frame()"
   ]
  },
  {
   "cell_type": "code",
   "execution_count": 23,
   "metadata": {},
   "outputs": [],
   "source": [
    "dat1 = pred_arr.reset_index(drop=True)\n",
    "dat2 = y_test_df.reset_index(drop=True)"
   ]
  },
  {
   "cell_type": "code",
   "execution_count": 24,
   "metadata": {},
   "outputs": [],
   "source": [
    "dat_1_2 = dat1.join(dat2)"
   ]
  },
  {
   "cell_type": "code",
   "execution_count": 25,
   "metadata": {},
   "outputs": [
    {
     "data": {
      "text/html": [
       "<div>\n",
       "<style scoped>\n",
       "    .dataframe tbody tr th:only-of-type {\n",
       "        vertical-align: middle;\n",
       "    }\n",
       "\n",
       "    .dataframe tbody tr th {\n",
       "        vertical-align: top;\n",
       "    }\n",
       "\n",
       "    .dataframe thead th {\n",
       "        text-align: right;\n",
       "    }\n",
       "</style>\n",
       "<table border=\"1\" class=\"dataframe\">\n",
       "  <thead>\n",
       "    <tr style=\"text-align: right;\">\n",
       "      <th></th>\n",
       "      <th>pred</th>\n",
       "      <th>user_score</th>\n",
       "    </tr>\n",
       "  </thead>\n",
       "  <tbody>\n",
       "    <tr>\n",
       "      <th>0</th>\n",
       "      <td>0.665753</td>\n",
       "      <td>0.555556</td>\n",
       "    </tr>\n",
       "    <tr>\n",
       "      <th>1</th>\n",
       "      <td>0.585996</td>\n",
       "      <td>0.555556</td>\n",
       "    </tr>\n",
       "    <tr>\n",
       "      <th>2</th>\n",
       "      <td>0.677283</td>\n",
       "      <td>0.777778</td>\n",
       "    </tr>\n",
       "    <tr>\n",
       "      <th>3</th>\n",
       "      <td>0.594659</td>\n",
       "      <td>0.666667</td>\n",
       "    </tr>\n",
       "    <tr>\n",
       "      <th>4</th>\n",
       "      <td>0.793893</td>\n",
       "      <td>0.444444</td>\n",
       "    </tr>\n",
       "    <tr>\n",
       "      <th>...</th>\n",
       "      <td>...</td>\n",
       "      <td>...</td>\n",
       "    </tr>\n",
       "    <tr>\n",
       "      <th>453817</th>\n",
       "      <td>0.524686</td>\n",
       "      <td>0.666667</td>\n",
       "    </tr>\n",
       "    <tr>\n",
       "      <th>453818</th>\n",
       "      <td>0.718142</td>\n",
       "      <td>0.666667</td>\n",
       "    </tr>\n",
       "    <tr>\n",
       "      <th>453819</th>\n",
       "      <td>0.855579</td>\n",
       "      <td>0.777778</td>\n",
       "    </tr>\n",
       "    <tr>\n",
       "      <th>453820</th>\n",
       "      <td>0.799773</td>\n",
       "      <td>1.000000</td>\n",
       "    </tr>\n",
       "    <tr>\n",
       "      <th>453821</th>\n",
       "      <td>0.647694</td>\n",
       "      <td>0.666667</td>\n",
       "    </tr>\n",
       "  </tbody>\n",
       "</table>\n",
       "<p>453822 rows × 2 columns</p>\n",
       "</div>"
      ],
      "text/plain": [
       "            pred  user_score\n",
       "0       0.665753    0.555556\n",
       "1       0.585996    0.555556\n",
       "2       0.677283    0.777778\n",
       "3       0.594659    0.666667\n",
       "4       0.793893    0.444444\n",
       "...          ...         ...\n",
       "453817  0.524686    0.666667\n",
       "453818  0.718142    0.666667\n",
       "453819  0.855579    0.777778\n",
       "453820  0.799773    1.000000\n",
       "453821  0.647694    0.666667\n",
       "\n",
       "[453822 rows x 2 columns]"
      ]
     },
     "execution_count": 25,
     "metadata": {},
     "output_type": "execute_result"
    }
   ],
   "source": [
    "dat_1_2"
   ]
  },
  {
   "cell_type": "code",
   "execution_count": 26,
   "metadata": {},
   "outputs": [],
   "source": [
    "model.save('model/model_impl.h5')"
   ]
  },
  {
   "cell_type": "code",
   "execution_count": 27,
   "metadata": {},
   "outputs": [
    {
     "data": {
      "text/plain": [
       "646417      7824\n",
       "64022        765\n",
       "596589      7200\n",
       "1374607    18207\n",
       "39663        461\n",
       "           ...  \n",
       "1258941    16706\n",
       "504956      6102\n",
       "68174        810\n",
       "902601     11793\n",
       "1486699    19962\n",
       "Name: user_id, Length: 453822, dtype: int64"
      ]
     },
     "execution_count": 27,
     "metadata": {},
     "output_type": "execute_result"
    }
   ],
   "source": [
    "user_id_test"
   ]
  },
  {
   "cell_type": "code",
   "execution_count": 28,
   "metadata": {},
   "outputs": [
    {
     "data": {
      "text/plain": [
       "646417      2404.0\n",
       "64022       2178.0\n",
       "596589       459.0\n",
       "1374607    38101.0\n",
       "39663      44200.0\n",
       "            ...   \n",
       "1258941     3572.0\n",
       "504956     34542.0\n",
       "68174         32.0\n",
       "902601      1689.0\n",
       "1486699    12685.0\n",
       "Name: anime_id, Length: 453822, dtype: float64"
      ]
     },
     "execution_count": 28,
     "metadata": {},
     "output_type": "execute_result"
    }
   ],
   "source": [
    "anime_id_test"
   ]
  },
  {
   "cell_type": "code",
   "execution_count": 29,
   "metadata": {},
   "outputs": [
    {
     "data": {
      "text/html": [
       "<div>\n",
       "<style scoped>\n",
       "    .dataframe tbody tr th:only-of-type {\n",
       "        vertical-align: middle;\n",
       "    }\n",
       "\n",
       "    .dataframe tbody tr th {\n",
       "        vertical-align: top;\n",
       "    }\n",
       "\n",
       "    .dataframe thead th {\n",
       "        text-align: right;\n",
       "    }\n",
       "</style>\n",
       "<table border=\"1\" class=\"dataframe\">\n",
       "  <thead>\n",
       "    <tr style=\"text-align: right;\">\n",
       "      <th></th>\n",
       "      <th>score</th>\n",
       "      <th>members</th>\n",
       "      <th>type</th>\n",
       "      <th>studio</th>\n",
       "      <th>episode_count</th>\n",
       "      <th>Action</th>\n",
       "      <th>Adult Cast</th>\n",
       "      <th>Adventure</th>\n",
       "      <th>Anthropomorphic</th>\n",
       "      <th>Avant Garde</th>\n",
       "      <th>...</th>\n",
       "      <th>90.1</th>\n",
       "      <th>91.1</th>\n",
       "      <th>92.1</th>\n",
       "      <th>93.1</th>\n",
       "      <th>94.1</th>\n",
       "      <th>95.1</th>\n",
       "      <th>96.1</th>\n",
       "      <th>97.1</th>\n",
       "      <th>98.1</th>\n",
       "      <th>99.1</th>\n",
       "    </tr>\n",
       "  </thead>\n",
       "  <tbody>\n",
       "    <tr>\n",
       "      <th>646417</th>\n",
       "      <td>0.750823</td>\n",
       "      <td>0.037627</td>\n",
       "      <td>4</td>\n",
       "      <td>856</td>\n",
       "      <td>0.003598</td>\n",
       "      <td>1</td>\n",
       "      <td>0</td>\n",
       "      <td>0</td>\n",
       "      <td>0</td>\n",
       "      <td>0</td>\n",
       "      <td>...</td>\n",
       "      <td>0.359933</td>\n",
       "      <td>-1.310139</td>\n",
       "      <td>0.144374</td>\n",
       "      <td>-0.268725</td>\n",
       "      <td>1.262138</td>\n",
       "      <td>-0.873796</td>\n",
       "      <td>-0.434602</td>\n",
       "      <td>0.179176</td>\n",
       "      <td>-0.957908</td>\n",
       "      <td>0.393838</td>\n",
       "    </tr>\n",
       "    <tr>\n",
       "      <th>64022</th>\n",
       "      <td>0.737651</td>\n",
       "      <td>0.004904</td>\n",
       "      <td>0</td>\n",
       "      <td>399</td>\n",
       "      <td>0.000327</td>\n",
       "      <td>1</td>\n",
       "      <td>0</td>\n",
       "      <td>0</td>\n",
       "      <td>0</td>\n",
       "      <td>0</td>\n",
       "      <td>...</td>\n",
       "      <td>-0.585385</td>\n",
       "      <td>-0.554892</td>\n",
       "      <td>1.634552</td>\n",
       "      <td>-0.052813</td>\n",
       "      <td>-0.097895</td>\n",
       "      <td>-0.688679</td>\n",
       "      <td>-0.149594</td>\n",
       "      <td>-0.020805</td>\n",
       "      <td>0.503872</td>\n",
       "      <td>1.104498</td>\n",
       "    </tr>\n",
       "    <tr>\n",
       "      <th>596589</th>\n",
       "      <td>0.778266</td>\n",
       "      <td>0.032160</td>\n",
       "      <td>0</td>\n",
       "      <td>789</td>\n",
       "      <td>0.000327</td>\n",
       "      <td>1</td>\n",
       "      <td>0</td>\n",
       "      <td>1</td>\n",
       "      <td>0</td>\n",
       "      <td>0</td>\n",
       "      <td>...</td>\n",
       "      <td>0.185875</td>\n",
       "      <td>-0.192132</td>\n",
       "      <td>0.172160</td>\n",
       "      <td>0.908934</td>\n",
       "      <td>1.087403</td>\n",
       "      <td>-0.487874</td>\n",
       "      <td>0.058215</td>\n",
       "      <td>0.232002</td>\n",
       "      <td>0.746394</td>\n",
       "      <td>-0.285596</td>\n",
       "    </tr>\n",
       "    <tr>\n",
       "      <th>1374607</th>\n",
       "      <td>0.841932</td>\n",
       "      <td>0.232772</td>\n",
       "      <td>4</td>\n",
       "      <td>783</td>\n",
       "      <td>0.003925</td>\n",
       "      <td>0</td>\n",
       "      <td>0</td>\n",
       "      <td>0</td>\n",
       "      <td>0</td>\n",
       "      <td>0</td>\n",
       "      <td>...</td>\n",
       "      <td>0.540676</td>\n",
       "      <td>0.434250</td>\n",
       "      <td>-0.622155</td>\n",
       "      <td>0.221160</td>\n",
       "      <td>-0.291174</td>\n",
       "      <td>-1.270174</td>\n",
       "      <td>-0.432091</td>\n",
       "      <td>0.913348</td>\n",
       "      <td>-0.049804</td>\n",
       "      <td>-1.167099</td>\n",
       "    </tr>\n",
       "    <tr>\n",
       "      <th>39663</th>\n",
       "      <td>0.832053</td>\n",
       "      <td>0.054662</td>\n",
       "      <td>0</td>\n",
       "      <td>103</td>\n",
       "      <td>0.000327</td>\n",
       "      <td>1</td>\n",
       "      <td>0</td>\n",
       "      <td>0</td>\n",
       "      <td>0</td>\n",
       "      <td>0</td>\n",
       "      <td>...</td>\n",
       "      <td>0.758464</td>\n",
       "      <td>0.199535</td>\n",
       "      <td>-0.718201</td>\n",
       "      <td>-0.133665</td>\n",
       "      <td>-0.077102</td>\n",
       "      <td>0.490625</td>\n",
       "      <td>-0.409398</td>\n",
       "      <td>-1.437865</td>\n",
       "      <td>0.275404</td>\n",
       "      <td>-0.249523</td>\n",
       "    </tr>\n",
       "    <tr>\n",
       "      <th>...</th>\n",
       "      <td>...</td>\n",
       "      <td>...</td>\n",
       "      <td>...</td>\n",
       "      <td>...</td>\n",
       "      <td>...</td>\n",
       "      <td>...</td>\n",
       "      <td>...</td>\n",
       "      <td>...</td>\n",
       "      <td>...</td>\n",
       "      <td>...</td>\n",
       "      <td>...</td>\n",
       "      <td>...</td>\n",
       "      <td>...</td>\n",
       "      <td>...</td>\n",
       "      <td>...</td>\n",
       "      <td>...</td>\n",
       "      <td>...</td>\n",
       "      <td>...</td>\n",
       "      <td>...</td>\n",
       "      <td>...</td>\n",
       "      <td>...</td>\n",
       "    </tr>\n",
       "    <tr>\n",
       "      <th>1258941</th>\n",
       "      <td>0.867179</td>\n",
       "      <td>0.039454</td>\n",
       "      <td>4</td>\n",
       "      <td>594</td>\n",
       "      <td>0.008178</td>\n",
       "      <td>1</td>\n",
       "      <td>0</td>\n",
       "      <td>0</td>\n",
       "      <td>0</td>\n",
       "      <td>0</td>\n",
       "      <td>...</td>\n",
       "      <td>-1.636199</td>\n",
       "      <td>0.353041</td>\n",
       "      <td>-1.122502</td>\n",
       "      <td>-0.548238</td>\n",
       "      <td>-0.743120</td>\n",
       "      <td>0.123896</td>\n",
       "      <td>-0.411761</td>\n",
       "      <td>0.824444</td>\n",
       "      <td>0.025895</td>\n",
       "      <td>-0.845484</td>\n",
       "    </tr>\n",
       "    <tr>\n",
       "      <th>504956</th>\n",
       "      <td>0.839737</td>\n",
       "      <td>0.164033</td>\n",
       "      <td>4</td>\n",
       "      <td>389</td>\n",
       "      <td>0.003598</td>\n",
       "      <td>1</td>\n",
       "      <td>0</td>\n",
       "      <td>0</td>\n",
       "      <td>0</td>\n",
       "      <td>0</td>\n",
       "      <td>...</td>\n",
       "      <td>0.201807</td>\n",
       "      <td>-0.849482</td>\n",
       "      <td>0.999874</td>\n",
       "      <td>-0.775421</td>\n",
       "      <td>-0.060742</td>\n",
       "      <td>-0.450195</td>\n",
       "      <td>0.251216</td>\n",
       "      <td>-0.063047</td>\n",
       "      <td>-0.413092</td>\n",
       "      <td>-1.141814</td>\n",
       "    </tr>\n",
       "    <tr>\n",
       "      <th>68174</th>\n",
       "      <td>0.938529</td>\n",
       "      <td>0.232847</td>\n",
       "      <td>0</td>\n",
       "      <td>248</td>\n",
       "      <td>0.000327</td>\n",
       "      <td>0</td>\n",
       "      <td>0</td>\n",
       "      <td>0</td>\n",
       "      <td>0</td>\n",
       "      <td>1</td>\n",
       "      <td>...</td>\n",
       "      <td>-0.939651</td>\n",
       "      <td>0.484272</td>\n",
       "      <td>-0.384013</td>\n",
       "      <td>0.735177</td>\n",
       "      <td>-2.343993</td>\n",
       "      <td>-0.195049</td>\n",
       "      <td>-0.195462</td>\n",
       "      <td>2.754975</td>\n",
       "      <td>0.764059</td>\n",
       "      <td>0.912075</td>\n",
       "    </tr>\n",
       "    <tr>\n",
       "      <th>902601</th>\n",
       "      <td>0.833150</td>\n",
       "      <td>0.244760</td>\n",
       "      <td>0</td>\n",
       "      <td>137</td>\n",
       "      <td>0.000981</td>\n",
       "      <td>0</td>\n",
       "      <td>0</td>\n",
       "      <td>0</td>\n",
       "      <td>0</td>\n",
       "      <td>0</td>\n",
       "      <td>...</td>\n",
       "      <td>-0.210145</td>\n",
       "      <td>0.831635</td>\n",
       "      <td>-0.179476</td>\n",
       "      <td>1.738406</td>\n",
       "      <td>0.590371</td>\n",
       "      <td>0.415879</td>\n",
       "      <td>-0.258699</td>\n",
       "      <td>0.223870</td>\n",
       "      <td>-1.330014</td>\n",
       "      <td>0.091840</td>\n",
       "    </tr>\n",
       "    <tr>\n",
       "      <th>1486699</th>\n",
       "      <td>0.708013</td>\n",
       "      <td>0.019242</td>\n",
       "      <td>2</td>\n",
       "      <td>743</td>\n",
       "      <td>0.000327</td>\n",
       "      <td>0</td>\n",
       "      <td>0</td>\n",
       "      <td>0</td>\n",
       "      <td>0</td>\n",
       "      <td>0</td>\n",
       "      <td>...</td>\n",
       "      <td>1.261428</td>\n",
       "      <td>0.530232</td>\n",
       "      <td>-0.939625</td>\n",
       "      <td>-0.510522</td>\n",
       "      <td>-0.406642</td>\n",
       "      <td>-0.289735</td>\n",
       "      <td>-0.829992</td>\n",
       "      <td>-0.781101</td>\n",
       "      <td>-0.125153</td>\n",
       "      <td>-0.193997</td>\n",
       "    </tr>\n",
       "  </tbody>\n",
       "</table>\n",
       "<p>453822 rows × 281 columns</p>\n",
       "</div>"
      ],
      "text/plain": [
       "            score   members  type  studio  episode_count  Action  Adult Cast  \\\n",
       "646417   0.750823  0.037627     4     856       0.003598       1           0   \n",
       "64022    0.737651  0.004904     0     399       0.000327       1           0   \n",
       "596589   0.778266  0.032160     0     789       0.000327       1           0   \n",
       "1374607  0.841932  0.232772     4     783       0.003925       0           0   \n",
       "39663    0.832053  0.054662     0     103       0.000327       1           0   \n",
       "...           ...       ...   ...     ...            ...     ...         ...   \n",
       "1258941  0.867179  0.039454     4     594       0.008178       1           0   \n",
       "504956   0.839737  0.164033     4     389       0.003598       1           0   \n",
       "68174    0.938529  0.232847     0     248       0.000327       0           0   \n",
       "902601   0.833150  0.244760     0     137       0.000981       0           0   \n",
       "1486699  0.708013  0.019242     2     743       0.000327       0           0   \n",
       "\n",
       "         Adventure  Anthropomorphic  Avant Garde  ...      90.1      91.1  \\\n",
       "646417           0                0            0  ...  0.359933 -1.310139   \n",
       "64022            0                0            0  ... -0.585385 -0.554892   \n",
       "596589           1                0            0  ...  0.185875 -0.192132   \n",
       "1374607          0                0            0  ...  0.540676  0.434250   \n",
       "39663            0                0            0  ...  0.758464  0.199535   \n",
       "...            ...              ...          ...  ...       ...       ...   \n",
       "1258941          0                0            0  ... -1.636199  0.353041   \n",
       "504956           0                0            0  ...  0.201807 -0.849482   \n",
       "68174            0                0            1  ... -0.939651  0.484272   \n",
       "902601           0                0            0  ... -0.210145  0.831635   \n",
       "1486699          0                0            0  ...  1.261428  0.530232   \n",
       "\n",
       "             92.1      93.1      94.1      95.1      96.1      97.1      98.1  \\\n",
       "646417   0.144374 -0.268725  1.262138 -0.873796 -0.434602  0.179176 -0.957908   \n",
       "64022    1.634552 -0.052813 -0.097895 -0.688679 -0.149594 -0.020805  0.503872   \n",
       "596589   0.172160  0.908934  1.087403 -0.487874  0.058215  0.232002  0.746394   \n",
       "1374607 -0.622155  0.221160 -0.291174 -1.270174 -0.432091  0.913348 -0.049804   \n",
       "39663   -0.718201 -0.133665 -0.077102  0.490625 -0.409398 -1.437865  0.275404   \n",
       "...           ...       ...       ...       ...       ...       ...       ...   \n",
       "1258941 -1.122502 -0.548238 -0.743120  0.123896 -0.411761  0.824444  0.025895   \n",
       "504956   0.999874 -0.775421 -0.060742 -0.450195  0.251216 -0.063047 -0.413092   \n",
       "68174   -0.384013  0.735177 -2.343993 -0.195049 -0.195462  2.754975  0.764059   \n",
       "902601  -0.179476  1.738406  0.590371  0.415879 -0.258699  0.223870 -1.330014   \n",
       "1486699 -0.939625 -0.510522 -0.406642 -0.289735 -0.829992 -0.781101 -0.125153   \n",
       "\n",
       "             99.1  \n",
       "646417   0.393838  \n",
       "64022    1.104498  \n",
       "596589  -0.285596  \n",
       "1374607 -1.167099  \n",
       "39663   -0.249523  \n",
       "...           ...  \n",
       "1258941 -0.845484  \n",
       "504956  -1.141814  \n",
       "68174    0.912075  \n",
       "902601   0.091840  \n",
       "1486699 -0.193997  \n",
       "\n",
       "[453822 rows x 281 columns]"
      ]
     },
     "execution_count": 29,
     "metadata": {},
     "output_type": "execute_result"
    }
   ],
   "source": [
    "anime_content_test"
   ]
  },
  {
   "cell_type": "code",
   "execution_count": null,
   "metadata": {},
   "outputs": [],
   "source": []
  }
 ],
 "metadata": {
  "kernelspec": {
   "display_name": "Python 3",
   "language": "python",
   "name": "python3"
  },
  "language_info": {
   "codemirror_mode": {
    "name": "ipython",
    "version": 3
   },
   "file_extension": ".py",
   "mimetype": "text/x-python",
   "name": "python",
   "nbconvert_exporter": "python",
   "pygments_lexer": "ipython3",
   "version": "3.10.0"
  },
  "orig_nbformat": 4,
  "vscode": {
   "interpreter": {
    "hash": "a8fa90e972fba6d68c64ef3093ddfeebf6f186bad7c54fab3857fbd07ec9312a"
   }
  }
 },
 "nbformat": 4,
 "nbformat_minor": 2
}
